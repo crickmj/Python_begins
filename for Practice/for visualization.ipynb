{
 "cells": [
  {
   "cell_type": "markdown",
   "metadata": {},
   "source": []
  },
  {
   "cell_type": "code",
   "execution_count": 21,
   "metadata": {},
   "outputs": [
    {
     "ename": "AttributeError",
     "evalue": "module 'plotly.data' has no attribute 'frame'",
     "output_type": "error",
     "traceback": [
      "\u001b[0;31m---------------------------------------------------------------------------\u001b[0m",
      "\u001b[0;31mAttributeError\u001b[0m                            Traceback (most recent call last)",
      "\u001b[1;32m/Users/minjoonlim/Desktop/python workspace/mjmj/for visualization.ipynb Cell 2'\u001b[0m in \u001b[0;36m<cell line: 4>\u001b[0;34m()\u001b[0m\n\u001b[1;32m      <a href='vscode-notebook-cell:/Users/minjoonlim/Desktop/python%20workspace/mjmj/for%20visualization.ipynb#ch0000005?line=0'>1</a>\u001b[0m \u001b[39mimport\u001b[39;00m \u001b[39mseaborn\u001b[39;00m \u001b[39mas\u001b[39;00m \u001b[39msb\u001b[39;00m\n\u001b[1;32m      <a href='vscode-notebook-cell:/Users/minjoonlim/Desktop/python%20workspace/mjmj/for%20visualization.ipynb#ch0000005?line=1'>2</a>\u001b[0m \u001b[39mimport\u001b[39;00m \u001b[39mplotly\u001b[39;00m \u001b[39mas\u001b[39;00m \u001b[39mpl\u001b[39;00m\n\u001b[0;32m----> <a href='vscode-notebook-cell:/Users/minjoonlim/Desktop/python%20workspace/mjmj/for%20visualization.ipynb#ch0000005?line=3'>4</a>\u001b[0m df \u001b[39m=\u001b[39m pl\u001b[39m.\u001b[39;49mdata\u001b[39m.\u001b[39;49mframe\u001b[39m.\u001b[39miris()\n\u001b[1;32m      <a href='vscode-notebook-cell:/Users/minjoonlim/Desktop/python%20workspace/mjmj/for%20visualization.ipynb#ch0000005?line=4'>5</a>\u001b[0m df\u001b[39m.\u001b[39mplotly\u001b[39m.\u001b[39mexpress\n",
      "\u001b[0;31mAttributeError\u001b[0m: module 'plotly.data' has no attribute 'frame'"
     ]
    }
   ],
   "source": [
    "import seaborn as sb\n",
    "import plotly as pl\n",
    "\n",
    "df = pl.data.frame.iris()\n",
    "df.plotly.express"
   ]
  },
  {
   "cell_type": "code",
   "execution_count": null,
   "metadata": {},
   "outputs": [],
   "source": []
  }
 ],
 "metadata": {
  "interpreter": {
   "hash": "aee8b7b246df8f9039afb4144a1f6fd8d2ca17a180786b69acc140d282b71a49"
  },
  "kernelspec": {
   "display_name": "Python 3.10.3 64-bit",
   "language": "python",
   "name": "python3"
  },
  "language_info": {
   "codemirror_mode": {
    "name": "ipython",
    "version": 3
   },
   "file_extension": ".py",
   "mimetype": "text/x-python",
   "name": "python",
   "nbconvert_exporter": "python",
   "pygments_lexer": "ipython3",
   "version": "3.10.3"
  },
  "orig_nbformat": 4
 },
 "nbformat": 4,
 "nbformat_minor": 2
}
