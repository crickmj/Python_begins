{
 "cells": [
  {
   "cell_type": "markdown",
   "metadata": {},
   "source": [
    "## 배열 연산 - 브로드 캐스팅\n",
    "- vectorized 사용 \n",
    "- 일반적으로 Numpy의 범용 함수 (Ufunc) 을 통해 구현\n",
    "- 배열 요소에 대한 반복적 계산을 효율적으로 사용 "
   ]
  },
  {
   "cell_type": "code",
   "execution_count": 3,
   "metadata": {},
   "outputs": [],
   "source": [
    "import numpy as np"
   ]
  },
  {
   "cell_type": "code",
   "execution_count": 5,
   "metadata": {},
   "outputs": [
    {
     "name": "stdout",
     "output_type": "stream",
     "text": [
      "[6 7 8]\n"
     ]
    }
   ],
   "source": [
    "a1 = np.array([1,2,3]) \n",
    "print(a1 + 5)"
   ]
  },
  {
   "cell_type": "code",
   "execution_count": 10,
   "metadata": {},
   "outputs": [
    {
     "name": "stdout",
     "output_type": "stream",
     "text": [
      "[1 2 3] \n",
      "\n",
      "[[1 2 3]\n",
      " [4 5 6]\n",
      " [7 8 9]] \n",
      "\n",
      "[[ 2  4  6]\n",
      " [ 5  7  9]\n",
      " [ 8 10 12]]\n"
     ]
    }
   ],
   "source": [
    "a2 = np.arange(1,10).reshape(3,3)\n",
    "print(a1, \"\\n\")\n",
    "print(a2, \"\\n\")\n",
    "print(a1 + a2)"
   ]
  },
  {
   "cell_type": "code",
   "execution_count": 11,
   "metadata": {},
   "outputs": [
    {
     "name": "stdout",
     "output_type": "stream",
     "text": [
      "[1 2 3] \n",
      "\n",
      "[[1]\n",
      " [2]\n",
      " [3]] \n",
      "\n",
      "[[2 3 4]\n",
      " [3 4 5]\n",
      " [4 5 6]]\n"
     ]
    }
   ],
   "source": [
    "b2 = np.array([1,2,3]).reshape(3,1)\n",
    "\n",
    "print(a1, \"\\n\")\n",
    "print(b2, \"\\n\")\n",
    "print(a1 + b2)"
   ]
  },
  {
   "cell_type": "markdown",
   "metadata": {},
   "source": [
    "##  산술 연산 (arithmetic operators) \n",
    "\n",
    "- '+' np.add 덧셈\n",
    "- '-' np.substract 뺄셈\n",
    "- '-' np.negative 단항 음수\n",
    "- '*' np.multiply 곱셈\n",
    "- '/' np.divide 나눗셈\n",
    "- '//' np.floor_devide 나눗셈 내림\n",
    "- '**' np.power 제곱, 지수연산\n",
    "- '%'np.mod 나머지 연산 \n",
    "\n",
    "\n",
    "\n"
   ]
  },
  {
   "cell_type": "code",
   "execution_count": 18,
   "metadata": {},
   "outputs": [
    {
     "name": "stdout",
     "output_type": "stream",
     "text": [
      "[1 2 3 4 5 6 7 8 9] \n",
      "\n",
      "[ 2  3  4  5  6  7  8  9 10] \n",
      "\n",
      "[11 12 13 14 15 16 17 18 19] \n",
      "\n",
      "[-9 -8 -7 -6 -5 -4 -3 -2 -1] \n",
      "\n",
      "[-1 -2 -3 -4 -5 -6 -7 -8 -9] \n",
      "\n",
      "[ 2  4  6  8 10 12 14 16 18] \n",
      "\n",
      "[0.5 1.  1.5 2.  2.5 3.  3.5 4.  4.5] \n",
      "\n",
      "[0 1 1 2 2 3 3 4 4] \n",
      "\n",
      "[ 1  4  9 16 25 36 49 64 81] \n",
      "\n",
      "[1 0 1 0 1 0 1 0 1] \n",
      "\n"
     ]
    }
   ],
   "source": [
    "a1 = np.arange(1,10)\n",
    "print(a1, \"\\n\")\n",
    "print(a1 + 1, \"\\n\")\n",
    "print(np.add(a1,10), \"\\n\")\n",
    "print(np.subtract(a1, 10), \"\\n\")\n",
    "print(-a1, \"\\n\") # = print(np.negative(a1))\n",
    "print(np.multiply(a1, 2),\"\\n\")\n",
    "print(np.divide(a1, 2), \"\\n\")\n",
    "print(np.floor_divide(a1, 2),\"\\n\")\n",
    "print(np.power(a1, 2),\"\\n\")\n",
    "print(np.mod(a1, 2),\"\\n\")"
   ]
  },
  {
   "cell_type": "code",
   "execution_count": 20,
   "metadata": {},
   "outputs": [
    {
     "name": "stdout",
     "output_type": "stream",
     "text": [
      "[1 2 3 4 5 6 7 8 9] \n",
      "\n",
      "[4 6 3 5 8 7 9 9 2] \n",
      "\n",
      "[ 5  8  6  9 13 13 16 17 11] \n",
      "\n",
      "[-3 -4  0 -1 -3 -1 -2 -1  7] \n",
      "\n",
      "[ 4 12  9 20 40 42 63 72 18] \n",
      "\n",
      "[0.25       0.33333333 1.         0.8        0.625      0.85714286\n",
      " 0.77777778 0.88888889 4.5       ] \n",
      "\n",
      "[        1        64        27      1024    390625    279936  40353607\n",
      " 134217728        81] \n",
      "\n",
      "[0 0 1 0 0 0 0 0 4] \n",
      "\n"
     ]
    }
   ],
   "source": [
    "a1 = np.arange(1,10)\n",
    "print(a1, \"\\n\")\n",
    "\n",
    "b1 = np.random.randint(1, 10, size=9)\n",
    "print(b1, \"\\n\")\n",
    "print(a1 + b1,\"\\n\")\n",
    "print(a1 - b1, \"\\n\")\n",
    "print(a1 * b1, \"\\n\")\n",
    "print(a1/b1, \"\\n\")\n",
    "print(a1**b1, \"\\n\")\n",
    "print(a1//b1,\"\\n\")"
   ]
  },
  {
   "cell_type": "code",
   "execution_count": 23,
   "metadata": {},
   "outputs": [
    {
     "name": "stdout",
     "output_type": "stream",
     "text": [
      "[[1 2 3]\n",
      " [4 5 6]\n",
      " [7 8 9]]\n",
      "[[1 4 6]\n",
      " [1 3 4]\n",
      " [9 2 4]]\n"
     ]
    }
   ],
   "source": [
    "a2 = np.arange(1,10).reshape(3,3)\n",
    "b2 = np.random.randint(1,10, size=(3,3))\n",
    "print(a2)\n",
    "print(b2)"
   ]
  },
  {
   "cell_type": "code",
   "execution_count": 24,
   "metadata": {},
   "outputs": [
    {
     "name": "stdout",
     "output_type": "stream",
     "text": [
      "[[ 2  6  9]\n",
      " [ 5  8 10]\n",
      " [16 10 13]] \n",
      "\n",
      "[[ 0 -2 -3]\n",
      " [ 3  2  2]\n",
      " [-2  6  5]] \n",
      "\n",
      "[[ 1  8 18]\n",
      " [ 4 15 24]\n",
      " [63 16 36]] \n",
      "\n",
      "[[1.         0.5        0.5       ]\n",
      " [4.         1.66666667 1.5       ]\n",
      " [0.77777778 4.         2.25      ]] \n",
      "\n",
      "[[1 0 0]\n",
      " [4 1 1]\n",
      " [0 4 2]] \n",
      "\n",
      "[[       1       16      729]\n",
      " [       4      125     1296]\n",
      " [40353607       64     6561]] \n",
      "\n",
      "[[0 2 3]\n",
      " [0 2 2]\n",
      " [7 0 1]] \n",
      "\n"
     ]
    }
   ],
   "source": [
    "print(a2 + b2, \"\\n\")\n",
    "print(a2 - b2, \"\\n\")\n",
    "print(a2 * b2, \"\\n\")\n",
    "print(a2 / b2, \"\\n\")\n",
    "print(a2 // b2, \"\\n\")\n",
    "print(a2 ** b2, \"\\n\")\n",
    "print(a2 % b2, \"\\n\")"
   ]
  },
  {
   "cell_type": "code",
   "execution_count": 30,
   "metadata": {},
   "outputs": [
    {
     "name": "stdout",
     "output_type": "stream",
     "text": [
      "[[-2  7  5]\n",
      " [-6 -1  0]\n",
      " [-9 -9 -3]]\n",
      "[[       nan 2.64575131 2.23606798]\n",
      " [       nan        nan 0.        ]\n",
      " [       nan        nan        nan]]\n"
     ]
    },
    {
     "name": "stderr",
     "output_type": "stream",
     "text": [
      "/var/folders/4f/jnlgcb9n6pg311w43wdsllwc0000gn/T/ipykernel_10817/4186405359.py:9: RuntimeWarning: invalid value encountered in sqrt\n",
      "  print(np.sqrt(a1))\n"
     ]
    }
   ],
   "source": [
    "# 절대값 함수\n",
    "\n",
    "a1 = np.random.randint(-10, 10, size=(3,3))\n",
    "print(a1)\n",
    "np.absolute(a1)\n",
    "\n",
    "# 제곱근 함수 \n",
    "\n",
    "print(np.sqrt(a1)) # 음수 제곱근 nan으로 뜸"
   ]
  },
  {
   "cell_type": "code",
   "execution_count": 35,
   "metadata": {},
   "outputs": [
    {
     "name": "stdout",
     "output_type": "stream",
     "text": [
      "[6 1 2 6 4] \n",
      "\n",
      "[403.42879349   2.71828183   7.3890561  403.42879349  54.59815003] \n",
      "\n",
      "[64.  2.  4. 64. 16.] \n",
      "\n",
      "[36  1  4 36 16] \n",
      "\n"
     ]
    }
   ],
   "source": [
    "# 지수와 로그 함수\n",
    "\n",
    "a1 = np.random.randint(1, 10, size=5)\n",
    "print(a1, \"\\n\")\n",
    "print(np.exp(a1),\"\\n\") # 밑이 자연상수 (e)인 지수-- e^x  \n",
    "print(np.exp2(a1),\"\\n\") # 밑이 2인 지수 -- 2^x\n",
    "print(np.power(a1,2),\"\\n\")"
   ]
  },
  {
   "cell_type": "code",
   "execution_count": 37,
   "metadata": {},
   "outputs": [
    {
     "name": "stdout",
     "output_type": "stream",
     "text": [
      "[6 1 2 6 4] \n",
      "\n",
      "[1.79175947 0.         0.69314718 1.79175947 1.38629436] \n",
      "\n",
      "[2.5849625 0.        1.        2.5849625 2.       ] \n",
      "\n",
      "[0.77815125 0.         0.30103    0.77815125 0.60205999] \n",
      "\n"
     ]
    }
   ],
   "source": [
    "print(a1, \"\\n\")\n",
    "print(np.log(a1),\"\\n\") # 자연 로그\n",
    "print(np.log2(a1),\"\\n\")  # 밑 2\n",
    "print(np.log10(a1),\"\\n\") # 밑 10"
   ]
  },
  {
   "cell_type": "markdown",
   "metadata": {},
   "source": [
    "## 삼각함수"
   ]
  },
  {
   "cell_type": "code",
   "execution_count": 39,
   "metadata": {},
   "outputs": [
    {
     "name": "stdout",
     "output_type": "stream",
     "text": [
      "[0.         1.57079633 3.14159265]\n",
      "[0.0000000e+00 1.0000000e+00 1.2246468e-16] \n",
      "\n",
      "[ 1.000000e+00  6.123234e-17 -1.000000e+00] \n",
      "\n",
      "[ 0.00000000e+00  1.63312394e+16 -1.22464680e-16] \n",
      "\n"
     ]
    }
   ],
   "source": [
    "t = np.linspace(0, np.pi, 3) # 균등하게 나누는 게 linspace\n",
    "print(t)\n",
    "\n",
    "print(np.sin(t),\"\\n\")\n",
    "print(np.cos(t),\"\\n\")\n",
    "print(np.tan(t),\"\\n\")\n"
   ]
  },
  {
   "cell_type": "code",
   "execution_count": 42,
   "metadata": {},
   "outputs": [
    {
     "name": "stdout",
     "output_type": "stream",
     "text": [
      "[-1, 0, 1] \n",
      "\n",
      "[-1.57079633  0.          1.57079633] \n",
      "\n",
      "[3.14159265 1.57079633 0.        ] \n",
      "\n",
      "[-0.78539816  0.          0.78539816] \n",
      "\n"
     ]
    }
   ],
   "source": [
    "x = [-1, 0, 1]\n",
    "\n",
    "print(x,\"\\n\")\n",
    "print(np.arcsin(x),\"\\n\")\n",
    "print(np.arccos(x),\"\\n\")\n",
    "print(np.arctan(x),\"\\n\")"
   ]
  },
  {
   "cell_type": "markdown",
   "metadata": {},
   "source": [
    "## 집계함수"
   ]
  },
  {
   "cell_type": "code",
   "execution_count": 46,
   "metadata": {},
   "outputs": [
    {
     "name": "stdout",
     "output_type": "stream",
     "text": [
      "[[7 9 3]\n",
      " [4 1 1]\n",
      " [7 1 7]] \n",
      "\n",
      "40 40 \n",
      "\n",
      "[18 11 11] [18 11 11] \n",
      "\n",
      "[18 11 11] [19  6 15] \n",
      "\n"
     ]
    }
   ],
   "source": [
    "a2 = np.random.randint(1, 10, size=(3,3))\n",
    "print(a2,\"\\n\")\n",
    "print(a2.sum(), np.sum(a2), \"\\n\") # 행열 구분없이 다 더한거\n",
    "print(a2.sum(axis=0), np.sum(a2, axis=0), \"\\n\") # 아래로 다 더함\n",
    "print(a2.sum(axis=0), np.sum(a2, axis=1), \"\\n\") # 옆으로 다 더함\n"
   ]
  },
  {
   "cell_type": "code",
   "execution_count": null,
   "metadata": {},
   "outputs": [],
   "source": []
  }
 ],
 "metadata": {
  "interpreter": {
   "hash": "aee8b7b246df8f9039afb4144a1f6fd8d2ca17a180786b69acc140d282b71a49"
  },
  "kernelspec": {
   "display_name": "Python 3.10.3 64-bit",
   "language": "python",
   "name": "python3"
  },
  "language_info": {
   "codemirror_mode": {
    "name": "ipython",
    "version": 3
   },
   "file_extension": ".py",
   "mimetype": "text/x-python",
   "name": "python",
   "nbconvert_exporter": "python",
   "pygments_lexer": "ipython3",
   "version": "3.10.3"
  },
  "orig_nbformat": 4
 },
 "nbformat": 4,
 "nbformat_minor": 2
}
