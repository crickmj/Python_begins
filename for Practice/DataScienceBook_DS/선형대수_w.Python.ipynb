{
 "cells": [
  {
   "cell_type": "markdown",
   "metadata": {},
   "source": [
    "## 벡터덧셈"
   ]
  },
  {
   "cell_type": "code",
   "execution_count": null,
   "metadata": {},
   "outputs": [],
   "source": [
    "u = [1,2,3]\n",
    "v = [4,5,6]\n",
    "\n",
    "n = len(u)\n",
    "w = []\n",
    "\n",
    "for i in range (0, n):\n",
    "    val = u[i] + v[i]\n",
    "    w.append(val)"
   ]
  },
  {
   "cell_type": "code",
   "execution_count": null,
   "metadata": {},
   "outputs": [],
   "source": [
    "print(w)"
   ]
  },
  {
   "cell_type": "code",
   "execution_count": null,
   "metadata": {},
   "outputs": [],
   "source": [
    "# def 로 설정\n",
    "\n",
    "def v_add(u,v):\n",
    "    n = len(u)\n",
    "    w = []\n",
    "    \n",
    "    for i in range(0, n):\n",
    "        val = u[i] + v[i]\n",
    "        w.append(val)\n",
    "        \n",
    "    return w\n",
    "    "
   ]
  },
  {
   "cell_type": "markdown",
   "metadata": {},
   "source": [
    "## 행렬의 덧셈 / 뺄셈 / 곱셈 / 나눗셈 (모두 동일)"
   ]
  },
  {
   "cell_type": "code",
   "execution_count": null,
   "metadata": {},
   "outputs": [],
   "source": [
    "A = [[2,7], [3,4], [6,1]]\n",
    "B = [[1,4], [4,-1], [2,5]]\n",
    "\n",
    "n = len(A)\n",
    "p = len(A[0])\n",
    "\n",
    "res = []\n",
    "\n",
    "for i in range(0, n):\n",
    "    row = []\n",
    "    for j in range(0, p):\n",
    "        val = A[i][j] + B[i][j]\n",
    "        row.append(val)\n",
    "    res.append(row)\n",
    "    \n",
    "res"
   ]
  },
  {
   "cell_type": "code",
   "execution_count": null,
   "metadata": {},
   "outputs": [],
   "source": [
    "C = [[1,4], [5, -2], [3,5]]\n",
    "D = [[5,2], [0,2], [1,-3]]   \n",
    "\"\"\"\n",
    "C는 [1,4]\n",
    "   [5,-2]\n",
    "    [3,5] 인 2 x 3 행렬임 \n",
    "    \"\"\"\n",
    "\n",
    "r = len(C)\n",
    "c = len(C[0])\n",
    "res1 = []\n",
    "    \n",
    "for i in range(0, r):\n",
    "    row = []\n",
    "    for j in range(0,c):\n",
    "        val = C[i][j] - D[i][j]\n",
    "        row.append(val) \n",
    "    res1.append(row)\n",
    "\n",
    "res1\n"
   ]
  },
  {
   "cell_type": "code",
   "execution_count": null,
   "metadata": {},
   "outputs": [],
   "source": [
    "res2 = [] # 벡터 스칼라 곱 \n",
    "E = 5\n",
    "\n",
    "for i in range (0, r):\n",
    "    row = []\n",
    "    for j in range (0, c):\n",
    "        val = E * A[i][j]\n",
    "        row.append(val)\n",
    "    res2.append(row)\n",
    "\n",
    "res2\n",
    "        \n",
    "res3 = [] # 행렬 끼리 곱 \n",
    "\n",
    "for i in range (0, r):\n",
    "    row = []\n",
    "    for j in range (0, c):\n",
    "        val = C[i][j] * D[i][j]\n",
    "        row.append(val)\n",
    "    res3.append(row)\n",
    "    \n",
    "res3"
   ]
  },
  {
   "cell_type": "markdown",
   "metadata": {},
   "source": [
    "## 전치행렬 (transposed matrix)"
   ]
  },
  {
   "cell_type": "code",
   "execution_count": null,
   "metadata": {},
   "outputs": [],
   "source": [
    "A = [[1,5],[3,4],[6,2]]\n",
    "\n",
    "r = len(A)\n",
    "c = len(A[0]) # [1,5] 리스트 개수라 2개\n",
    "\n",
    "res = []\n",
    "\n",
    "for i in range(0, c): # 전치해야하니까 행에 넣을 건 열 갯수 \n",
    "    row = []\n",
    "    for j in range(0, r):\n",
    "        val = A[j][i] # i / j  뒤집어 \n",
    "        row.append(val)\n",
    "    res.append(row)\n",
    "    \n",
    "res\n",
    "\n",
    "## numpy\n",
    "\n",
    "import numpy as np\n",
    "\n",
    "At = np.transpose(A)\n",
    "print(At)\n"
   ]
  },
  {
   "cell_type": "markdown",
   "metadata": {},
   "source": [
    "행렬 A가 대칭 행렬일 때, 거듭 제곱 또한 대칭 행렬인가 ?"
   ]
  },
  {
   "cell_type": "code",
   "execution_count": null,
   "metadata": {},
   "outputs": [],
   "source": [
    "def matmul(A,B):\n",
    "    n = len(A)\n",
    "    p1 = len(A[0])\n",
    "    p2 = len(B[0])\n",
    "    \n",
    "    res = []\n",
    "    for i in range(0,n):\n",
    "        row = []\n",
    "        for j in range(0, p2):\n",
    "            val = 0\n",
    "            for k in range(0, p1):\n",
    "                val += A[i][k] * B[k][j]\n",
    "            row.append(val)\n",
    "        res.append(row)\n",
    "    return res"
   ]
  },
  {
   "cell_type": "code",
   "execution_count": null,
   "metadata": {},
   "outputs": [],
   "source": [
    "A = [[1,0,2],[0,2,1],[2,1,1]]\n",
    "\n",
    "AA = A\n",
    "for i in range(0,9):\n",
    "    AA = matmul(AA, A)\n",
    "    print(\"행렬 A의\", i+2, \"제곱은\", AA)\n",
    "    "
   ]
  },
  {
   "cell_type": "code",
   "execution_count": null,
   "metadata": {},
   "outputs": [],
   "source": [
    "AA = A\n",
    "\n",
    "for i in range(0,9):\n",
    "    AA = np.matmul(AA, A)\n",
    "    print(\"행렬 A의\", i+2, \"제곱은\")\n",
    "    print(AA)\n",
    "    print(\"==============\")"
   ]
  },
  {
   "cell_type": "markdown",
   "metadata": {},
   "source": [
    "## 대각행렬\n",
    "대각 성분 제외한 나머지는 0"
   ]
  },
  {
   "cell_type": "code",
   "execution_count": 4,
   "metadata": {},
   "outputs": [
    {
     "name": "stdout",
     "output_type": "stream",
     "text": [
      "[[1, 0, 0]]\n",
      "[[1, 0, 0], [0, 5, 0]]\n",
      "[[1, 0, 0], [0, 5, 0], [0, 0, 9]]\n"
     ]
    }
   ],
   "source": [
    "A = [[1,2,3],[4,5,6],[7,8,9]]\n",
    "\n",
    "n = len(A)\n",
    "D = []\n",
    "\n",
    "for i in range(0,n):\n",
    "    row = []\n",
    "    for j in range(0,n):\n",
    "        if i == j:\n",
    "            row.append(A[i][j])\n",
    "        else:\n",
    "            row.append(0)\n",
    "    D.append(row)\n",
    "    \n",
    "    "
   ]
  },
  {
   "cell_type": "code",
   "execution_count": null,
   "metadata": {},
   "outputs": [],
   "source": []
  },
  {
   "cell_type": "code",
   "execution_count": null,
   "metadata": {},
   "outputs": [],
   "source": []
  }
 ],
 "metadata": {
  "interpreter": {
   "hash": "aee8b7b246df8f9039afb4144a1f6fd8d2ca17a180786b69acc140d282b71a49"
  },
  "kernelspec": {
   "display_name": "Python 3.10.3 64-bit",
   "language": "python",
   "name": "python3"
  },
  "language_info": {
   "codemirror_mode": {
    "name": "ipython",
    "version": 3
   },
   "file_extension": ".py",
   "mimetype": "text/x-python",
   "name": "python",
   "nbconvert_exporter": "python",
   "pygments_lexer": "ipython3",
   "version": "3.10.3"
  },
  "orig_nbformat": 4
 },
 "nbformat": 4,
 "nbformat_minor": 2
}
