{
 "cells": [
  {
   "cell_type": "markdown",
   "metadata": {},
   "source": [
    "## 벡터덧셈"
   ]
  },
  {
   "cell_type": "code",
   "execution_count": 1,
   "metadata": {},
   "outputs": [],
   "source": [
    "u = [1,2,3]\n",
    "v = [4,5,6]\n",
    "\n",
    "n = len(u)\n",
    "w = []\n",
    "\n",
    "for i in range (0, n):\n",
    "    val = u[i] + v[i]\n",
    "    w.append(val)"
   ]
  },
  {
   "cell_type": "code",
   "execution_count": 2,
   "metadata": {},
   "outputs": [
    {
     "name": "stdout",
     "output_type": "stream",
     "text": [
      "[5, 7, 9]\n"
     ]
    }
   ],
   "source": [
    "print(w)"
   ]
  },
  {
   "cell_type": "code",
   "execution_count": 3,
   "metadata": {},
   "outputs": [],
   "source": [
    "# def 로 설정\n",
    "\n",
    "def v_add(u,v):\n",
    "    n = len(u)\n",
    "    w = []\n",
    "    \n",
    "    for i in range(0, n):\n",
    "        val = u[i] + v[i]\n",
    "        w.append(val)\n",
    "        \n",
    "    return w\n",
    "    "
   ]
  },
  {
   "cell_type": "markdown",
   "metadata": {},
   "source": [
    "## 행렬의 덧셈 / 뺄셈 / 곱셈 / 나눗셈 (모두 동일)"
   ]
  },
  {
   "cell_type": "code",
   "execution_count": 8,
   "metadata": {},
   "outputs": [
    {
     "data": {
      "text/plain": [
       "[[3, 11], [7, 3], [8, 6]]"
      ]
     },
     "execution_count": 8,
     "metadata": {},
     "output_type": "execute_result"
    }
   ],
   "source": [
    "A = [[2,7], [3,4], [6,1]]\n",
    "B = [[1,4], [4,-1], [2,5]]\n",
    "\n",
    "n = len(A)\n",
    "p = len(A[0])\n",
    "\n",
    "res = []\n",
    "\n",
    "for i in range(0, n):\n",
    "    row = []\n",
    "    for j in range(0, p):\n",
    "        val = A[i][j] + B[i][j]\n",
    "        row.append(val)\n",
    "    res.append(row)\n",
    "    \n",
    "res"
   ]
  },
  {
   "cell_type": "code",
   "execution_count": 13,
   "metadata": {},
   "outputs": [
    {
     "data": {
      "text/plain": [
       "[[-4, 2], [5, -4], [2, 8]]"
      ]
     },
     "execution_count": 13,
     "metadata": {},
     "output_type": "execute_result"
    }
   ],
   "source": [
    "C = [[1,4], [5, -2], [3,5]]\n",
    "D = [[5,2], [0,2], [1,-3]]   \n",
    "\"\"\"\n",
    "C는 [1,4]\n",
    "   [5,-2]\n",
    "    [3,5] 인 2 x 3 행렬임 \n",
    "    \"\"\"\n",
    "\n",
    "r = len(C)\n",
    "c = len(C[0])\n",
    "res1 = []\n",
    "    \n",
    "for i in range(0, r):\n",
    "    row = []\n",
    "    for j in range(0,c):\n",
    "        val = C[i][j] - D[i][j]\n",
    "        row.append(val) \n",
    "    res1.append(row)\n",
    "\n",
    "res1\n"
   ]
  },
  {
   "cell_type": "code",
   "execution_count": 19,
   "metadata": {},
   "outputs": [
    {
     "data": {
      "text/plain": [
       "[[5, 8], [0, -4], [3, -15]]"
      ]
     },
     "execution_count": 19,
     "metadata": {},
     "output_type": "execute_result"
    }
   ],
   "source": [
    "res2 = [] # 벡터 스칼라 곱 \n",
    "E = 5\n",
    "\n",
    "for i in range (0, r):\n",
    "    row = []\n",
    "    for j in range (0, c):\n",
    "        val = E * A[i][j]\n",
    "        row.append(val)\n",
    "    res2.append(row)\n",
    "\n",
    "res2\n",
    "        \n",
    "res3 = [] # 행렬 끼리 곱 \n",
    "\n",
    "for i in range (0, r):\n",
    "    row = []\n",
    "    for j in range (0, c):\n",
    "        val = C[i][j] * D[i][j]\n",
    "        row.append(val)\n",
    "    res3.append(row)\n",
    "    \n",
    "res3"
   ]
  },
  {
   "cell_type": "markdown",
   "metadata": {},
   "source": [
    "## 전치행렬 (transposed matrix)"
   ]
  },
  {
   "cell_type": "code",
   "execution_count": 33,
   "metadata": {},
   "outputs": [
    {
     "name": "stdout",
     "output_type": "stream",
     "text": [
      "[[1 3 6]\n",
      " [5 4 2]]\n"
     ]
    }
   ],
   "source": [
    "A = [[1,5],[3,4],[6,2]]\n",
    "\n",
    "r = len(A)\n",
    "c = len(A[0]) # [1,5] 리스트 개수라 2개\n",
    "\n",
    "res = []\n",
    "\n",
    "for i in range(0, c): # 전치해야하니까 행에 넣을 건 열 갯수 \n",
    "    row = []\n",
    "    for j in range(0, r):\n",
    "        val = A[j][i] # i / j  뒤집어 \n",
    "        row.append(val)\n",
    "    res.append(row)\n",
    "    \n",
    "res\n",
    "\n",
    "## numpy\n",
    "\n",
    "import numpy as np\n",
    "\n",
    "At = np.transpose(A)\n",
    "print(At)\n"
   ]
  },
  {
   "cell_type": "markdown",
   "metadata": {},
   "source": [
    "행렬 A가 대칭 행렬일 때, 거듭 제곱 또한 대칭 행렬인가 ?"
   ]
  },
  {
   "cell_type": "code",
   "execution_count": 34,
   "metadata": {},
   "outputs": [],
   "source": [
    "def matmul(A,B):\n",
    "    n = len(A)\n",
    "    p1 = len(A[0])\n",
    "    p2 = len(B[0])\n",
    "    \n",
    "    res = []\n",
    "    for i in range(0,n):\n",
    "        row = []\n",
    "        for j in range(0, p2):\n",
    "            val = 0\n",
    "            for k in range(0, p1):\n",
    "                val += A[i][k] * B[k][j]\n",
    "            row.append(val)\n",
    "        res.append(row)\n",
    "    return res"
   ]
  },
  {
   "cell_type": "code",
   "execution_count": 35,
   "metadata": {},
   "outputs": [
    {
     "name": "stdout",
     "output_type": "stream",
     "text": [
      "행렬 A의 2 제곱은 [[5, 2, 4], [2, 5, 3], [4, 3, 6]]\n",
      "행렬 A의 3 제곱은 [[13, 8, 16], [8, 13, 12], [16, 12, 17]]\n",
      "행렬 A의 4 제곱은 [[45, 32, 50], [32, 38, 41], [50, 41, 61]]\n",
      "행렬 A의 5 제곱은 [[145, 114, 172], [114, 117, 143], [172, 143, 202]]\n",
      "행렬 A의 6 제곱은 [[489, 400, 576], [400, 377, 488], [576, 488, 689]]\n",
      "행렬 A의 7 제곱은 [[1641, 1376, 1954], [1376, 1242, 1665], [1954, 1665, 2329]]\n",
      "행렬 A의 8 제곱은 [[5549, 4706, 6612], [4706, 4149, 5659], [6612, 5659, 7902]]\n",
      "행렬 A의 9 제곱은 [[18773, 16024, 22416], [16024, 13957, 19220], [22416, 19220, 26785]]\n",
      "행렬 A의 10 제곱은 [[63605, 54464, 75986], [54464, 47134, 65225], [75986, 65225, 90837]]\n"
     ]
    }
   ],
   "source": [
    "A = [[1,0,2],[0,2,1],[2,1,1]]\n",
    "\n",
    "AA = A\n",
    "for i in range(0,9):\n",
    "    AA = matmul(AA, A)\n",
    "    print(\"행렬 A의\", i+2, \"제곱은\", AA)\n",
    "    "
   ]
  },
  {
   "cell_type": "code",
   "execution_count": 37,
   "metadata": {},
   "outputs": [
    {
     "name": "stdout",
     "output_type": "stream",
     "text": [
      "행렬 A의 2 제곱은\n",
      "[[5 2 4]\n",
      " [2 5 3]\n",
      " [4 3 6]]\n",
      "==============\n",
      "행렬 A의 3 제곱은\n",
      "[[13  8 16]\n",
      " [ 8 13 12]\n",
      " [16 12 17]]\n",
      "==============\n",
      "행렬 A의 4 제곱은\n",
      "[[45 32 50]\n",
      " [32 38 41]\n",
      " [50 41 61]]\n",
      "==============\n",
      "행렬 A의 5 제곱은\n",
      "[[145 114 172]\n",
      " [114 117 143]\n",
      " [172 143 202]]\n",
      "==============\n",
      "행렬 A의 6 제곱은\n",
      "[[489 400 576]\n",
      " [400 377 488]\n",
      " [576 488 689]]\n",
      "==============\n",
      "행렬 A의 7 제곱은\n",
      "[[1641 1376 1954]\n",
      " [1376 1242 1665]\n",
      " [1954 1665 2329]]\n",
      "==============\n",
      "행렬 A의 8 제곱은\n",
      "[[5549 4706 6612]\n",
      " [4706 4149 5659]\n",
      " [6612 5659 7902]]\n",
      "==============\n",
      "행렬 A의 9 제곱은\n",
      "[[18773 16024 22416]\n",
      " [16024 13957 19220]\n",
      " [22416 19220 26785]]\n",
      "==============\n",
      "행렬 A의 10 제곱은\n",
      "[[63605 54464 75986]\n",
      " [54464 47134 65225]\n",
      " [75986 65225 90837]]\n",
      "==============\n"
     ]
    }
   ],
   "source": [
    "AA = A\n",
    "\n",
    "for i in range(0,9):\n",
    "    AA = np.matmul(AA, A)\n",
    "    print(\"행렬 A의\", i+2, \"제곱은\")\n",
    "    print(AA)\n",
    "    print(\"==============\")"
   ]
  },
  {
   "cell_type": "code",
   "execution_count": null,
   "metadata": {},
   "outputs": [],
   "source": [
    "\n",
    "dd"
   ]
  }
 ],
 "metadata": {
  "interpreter": {
   "hash": "aee8b7b246df8f9039afb4144a1f6fd8d2ca17a180786b69acc140d282b71a49"
  },
  "kernelspec": {
   "display_name": "Python 3.10.3 64-bit",
   "language": "python",
   "name": "python3"
  },
  "language_info": {
   "codemirror_mode": {
    "name": "ipython",
    "version": 3
   },
   "file_extension": ".py",
   "mimetype": "text/x-python",
   "name": "python",
   "nbconvert_exporter": "python",
   "pygments_lexer": "ipython3",
   "version": "3.10.3"
  },
  "orig_nbformat": 4
 },
 "nbformat": 4,
 "nbformat_minor": 2
}
