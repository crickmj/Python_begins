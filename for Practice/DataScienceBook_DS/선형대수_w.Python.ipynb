{
 "cells": [
  {
   "cell_type": "markdown",
   "metadata": {},
   "source": [
    "## 벡터덧셈"
   ]
  },
  {
   "cell_type": "code",
   "execution_count": 1,
   "metadata": {},
   "outputs": [],
   "source": [
    "u = [1,2,3]\n",
    "v = [4,5,6]\n",
    "\n",
    "n = len(u)\n",
    "w = []\n",
    "\n",
    "for i in range (0, n):\n",
    "    val = u[i] + v[i]\n",
    "    w.append(val)"
   ]
  },
  {
   "cell_type": "code",
   "execution_count": 2,
   "metadata": {},
   "outputs": [
    {
     "name": "stdout",
     "output_type": "stream",
     "text": [
      "[5, 7, 9]\n"
     ]
    }
   ],
   "source": [
    "print(w)"
   ]
  },
  {
   "cell_type": "code",
   "execution_count": 3,
   "metadata": {},
   "outputs": [],
   "source": [
    "# def 로 설정\n",
    "\n",
    "def v_add(u,v):\n",
    "    n = len(u)\n",
    "    w = []\n",
    "    \n",
    "    for i in range(0, n):\n",
    "        val = u[i] + v[i]\n",
    "        w.append(val)\n",
    "        \n",
    "    return w\n",
    "    "
   ]
  },
  {
   "cell_type": "markdown",
   "metadata": {},
   "source": [
    "## 행렬의 덧셈 / 뺄셈 / 곱셈 / 나눗셈 (모두 동일)"
   ]
  },
  {
   "cell_type": "code",
   "execution_count": 8,
   "metadata": {},
   "outputs": [
    {
     "data": {
      "text/plain": [
       "[[3, 11], [7, 3], [8, 6]]"
      ]
     },
     "execution_count": 8,
     "metadata": {},
     "output_type": "execute_result"
    }
   ],
   "source": [
    "A = [[2,7], [3,4], [6,1]]\n",
    "B = [[1,4], [4,-1], [2,5]]\n",
    "\n",
    "n = len(A)\n",
    "p = len(A[0])\n",
    "\n",
    "res = []\n",
    "\n",
    "for i in range(0, n):\n",
    "    row = []\n",
    "    for j in range(0, p):\n",
    "        val = A[i][j] + B[i][j]\n",
    "        row.append(val)\n",
    "    res.append(row)\n",
    "    \n",
    "res"
   ]
  },
  {
   "cell_type": "code",
   "execution_count": 13,
   "metadata": {},
   "outputs": [
    {
     "data": {
      "text/plain": [
       "[[-4, 2], [5, -4], [2, 8]]"
      ]
     },
     "execution_count": 13,
     "metadata": {},
     "output_type": "execute_result"
    }
   ],
   "source": [
    "C = [[1,4], [5, -2], [3,5]]\n",
    "D = [[5,2], [0,2], [1,-3]]   \n",
    "\"\"\"\n",
    "C는 [1,4]\n",
    "   [5,-2]\n",
    "    [3,5] 인 2 x 3 행렬임 \n",
    "    \"\"\"\n",
    "\n",
    "r = len(C)\n",
    "c = len(C[0])\n",
    "res1 = []\n",
    "    \n",
    "for i in range(0, r):\n",
    "    row = []\n",
    "    for j in range(0,c):\n",
    "        val = C[i][j] - D[i][j]\n",
    "        row.append(val) \n",
    "    res1.append(row)\n",
    "\n",
    "res1\n"
   ]
  },
  {
   "cell_type": "code",
   "execution_count": null,
   "metadata": {},
   "outputs": [],
   "source": []
  }
 ],
 "metadata": {
  "interpreter": {
   "hash": "aee8b7b246df8f9039afb4144a1f6fd8d2ca17a180786b69acc140d282b71a49"
  },
  "kernelspec": {
   "display_name": "Python 3.10.3 64-bit",
   "language": "python",
   "name": "python3"
  },
  "language_info": {
   "codemirror_mode": {
    "name": "ipython",
    "version": 3
   },
   "file_extension": ".py",
   "mimetype": "text/x-python",
   "name": "python",
   "nbconvert_exporter": "python",
   "pygments_lexer": "ipython3",
   "version": "3.10.3"
  },
  "orig_nbformat": 4
 },
 "nbformat": 4,
 "nbformat_minor": 2
}
