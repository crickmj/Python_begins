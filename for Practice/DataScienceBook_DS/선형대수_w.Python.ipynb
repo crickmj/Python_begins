{
 "cells": [
  {
   "cell_type": "markdown",
   "metadata": {},
   "source": [
    "## 벡터덧셈"
   ]
  },
  {
   "cell_type": "code",
   "execution_count": null,
   "metadata": {},
   "outputs": [],
   "source": [
    "u = [1,2,3]\n",
    "v = [4,5,6]\n",
    "\n",
    "n = len(u)\n",
    "w = []\n",
    "\n",
    "for i in range (0, n):\n",
    "    val = u[i] + v[i]\n",
    "    w.append(val)"
   ]
  },
  {
   "cell_type": "code",
   "execution_count": null,
   "metadata": {},
   "outputs": [],
   "source": [
    "print(w)"
   ]
  },
  {
   "cell_type": "code",
   "execution_count": null,
   "metadata": {},
   "outputs": [],
   "source": [
    "# def 로 설정\n",
    "\n",
    "def v_add(u,v):\n",
    "    n = len(u)\n",
    "    w = []\n",
    "    \n",
    "    for i in range(0, n):\n",
    "        val = u[i] + v[i]\n",
    "        w.append(val)\n",
    "        \n",
    "    return w\n",
    "    "
   ]
  },
  {
   "cell_type": "markdown",
   "metadata": {},
   "source": [
    "## 행렬의 덧셈 / 뺄셈 / 곱셈 / 나눗셈 (모두 동일)"
   ]
  },
  {
   "cell_type": "code",
   "execution_count": null,
   "metadata": {},
   "outputs": [],
   "source": [
    "A = [[2,7], [3,4], [6,1]]\n",
    "B = [[1,4], [4,-1], [2,5]]\n",
    "\n",
    "n = len(A)\n",
    "p = len(A[0])\n",
    "\n",
    "res = []\n",
    "\n",
    "for i in range(0, n):\n",
    "    row = []\n",
    "    for j in range(0, p):\n",
    "        val = A[i][j] + B[i][j]\n",
    "        row.append(val)\n",
    "    res.append(row)\n",
    "    \n",
    "res"
   ]
  },
  {
   "cell_type": "code",
   "execution_count": null,
   "metadata": {},
   "outputs": [],
   "source": [
    "C = [[1,4], [5, -2], [3,5]]\n",
    "D = [[5,2], [0,2], [1,-3]]   \n",
    "\"\"\"\n",
    "C는 [1,4]\n",
    "   [5,-2]\n",
    "    [3,5] 인 2 x 3 행렬임 \n",
    "    \"\"\"\n",
    "\n",
    "r = len(C)\n",
    "c = len(C[0])\n",
    "res1 = []\n",
    "    \n",
    "for i in range(0, r):\n",
    "    row = []\n",
    "    for j in range(0,c):\n",
    "        val = C[i][j] - D[i][j]\n",
    "        row.append(val) \n",
    "    res1.append(row)\n",
    "\n",
    "res1\n"
   ]
  },
  {
   "cell_type": "code",
   "execution_count": null,
   "metadata": {},
   "outputs": [],
   "source": [
    "res2 = [] # 벡터 스칼라 곱 \n",
    "E = 5\n",
    "\n",
    "for i in range (0, r):\n",
    "    row = []\n",
    "    for j in range (0, c):\n",
    "        val = E * A[i][j]\n",
    "        row.append(val)\n",
    "    res2.append(row)\n",
    "\n",
    "res2\n",
    "        \n",
    "res3 = [] # 행렬 끼리 곱 \n",
    "\n",
    "for i in range (0, r):\n",
    "    row = []\n",
    "    for j in range (0, c):\n",
    "        val = C[i][j] * D[i][j]\n",
    "        row.append(val)\n",
    "    res3.append(row)\n",
    "    \n",
    "res3"
   ]
  },
  {
   "cell_type": "markdown",
   "metadata": {},
   "source": [
    "## 전치행렬 (transposed matrix)"
   ]
  },
  {
   "cell_type": "code",
   "execution_count": null,
   "metadata": {},
   "outputs": [],
   "source": [
    "A = [[1,5],[3,4],[6,2]]\n",
    "\n",
    "r = len(A)\n",
    "c = len(A[0]) # [1,5] 리스트 개수라 2개\n",
    "\n",
    "res = []\n",
    "\n",
    "for i in range(0, c): # 전치해야하니까 행에 넣을 건 열 갯수 \n",
    "    row = []\n",
    "    for j in range(0, r):\n",
    "        val = A[j][i] # i / j  뒤집어 \n",
    "        row.append(val)\n",
    "    res.append(row)\n",
    "    \n",
    "res\n",
    "\n",
    "## numpy\n",
    "\n",
    "import numpy as np\n",
    "\n",
    "At = np.transpose(A)\n",
    "print(At)\n"
   ]
  },
  {
   "cell_type": "markdown",
   "metadata": {},
   "source": [
    "행렬 A가 대칭 행렬일 때, 거듭 제곱 또한 대칭 행렬인가 ?"
   ]
  },
  {
   "cell_type": "code",
   "execution_count": null,
   "metadata": {},
   "outputs": [],
   "source": [
    "def matmul(A,B):\n",
    "    n = len(A)\n",
    "    p1 = len(A[0])\n",
    "    p2 = len(B[0])\n",
    "    \n",
    "    res = []\n",
    "    for i in range(0,n):\n",
    "        row = []\n",
    "        for j in range(0, p2):\n",
    "            val = 0\n",
    "            for k in range(0, p1):\n",
    "                val += A[i][k] * B[k][j]\n",
    "            row.append(val)\n",
    "        res.append(row)\n",
    "    return res"
   ]
  },
  {
   "cell_type": "code",
   "execution_count": null,
   "metadata": {},
   "outputs": [],
   "source": [
    "A = [[1,0,2],[0,2,1],[2,1,1]]\n",
    "\n",
    "AA = A\n",
    "for i in range(0,9):\n",
    "    AA = matmul(AA, A)\n",
    "    print(\"행렬 A의\", i+2, \"제곱은\", AA)\n",
    "    "
   ]
  },
  {
   "cell_type": "code",
   "execution_count": null,
   "metadata": {},
   "outputs": [],
   "source": [
    "AA = A\n",
    "\n",
    "for i in range(0,9):\n",
    "    AA = np.matmul(AA, A)\n",
    "    print(\"행렬 A의\", i+2, \"제곱은\")\n",
    "    print(AA)\n",
    "    print(\"==============\")"
   ]
  },
  {
   "cell_type": "markdown",
   "metadata": {},
   "source": [
    "## 대각행렬\n",
    "대각 성분 제외한 나머지는 0"
   ]
  },
  {
   "cell_type": "code",
   "execution_count": 4,
   "metadata": {},
   "outputs": [
    {
     "name": "stdout",
     "output_type": "stream",
     "text": [
      "[[1, 0, 0]]\n",
      "[[1, 0, 0], [0, 5, 0]]\n",
      "[[1, 0, 0], [0, 5, 0], [0, 0, 9]]\n"
     ]
    }
   ],
   "source": [
    "A = [[1,2,3],[4,5,6],[7,8,9]]\n",
    "\n",
    "n = len(A)\n",
    "D = []\n",
    "\n",
    "for i in range(0,n):\n",
    "    row = []\n",
    "    for j in range(0,n):\n",
    "        if i == j:\n",
    "            row.append(A[i][j])\n",
    "        else:\n",
    "            row.append(0)\n",
    "    D.append(row)\n",
    "    \n",
    "    "
   ]
  },
  {
   "cell_type": "code",
   "execution_count": 20,
   "metadata": {},
   "outputs": [
    {
     "name": "stdout",
     "output_type": "stream",
     "text": [
      "[[1 2 3]\n",
      " [4 5 6]\n",
      " [7 8 9]] \n",
      "\n"
     ]
    },
    {
     "data": {
      "text/plain": [
       "array([[1, 0, 0],\n",
       "       [0, 2, 0],\n",
       "       [0, 0, 3]])"
      ]
     },
     "execution_count": 20,
     "metadata": {},
     "output_type": "execute_result"
    }
   ],
   "source": [
    "# numpy 이용\n",
    "import numpy as np\n",
    "\n",
    "A = np.array([[1,2,3],[4,5,6],[7,8,9]])\n",
    "print(A,\"\\n\")\n",
    "A_dia = np.diag([1,2,3])\n",
    "A_dia"
   ]
  },
  {
   "cell_type": "code",
   "execution_count": 17,
   "metadata": {},
   "outputs": [
    {
     "data": {
      "text/plain": [
       "array([[ 1,  4,  9],\n",
       "       [ 4, 10, 18],\n",
       "       [ 7, 16, 27]])"
      ]
     },
     "execution_count": 17,
     "metadata": {},
     "output_type": "execute_result"
    }
   ],
   "source": [
    "AD = np.matmul(A,A_dia)\n",
    "AD #대각행렬이 뒤이면, col 기준으로 곱"
   ]
  },
  {
   "cell_type": "code",
   "execution_count": 19,
   "metadata": {},
   "outputs": [
    {
     "data": {
      "text/plain": [
       "array([[ 1,  2,  3],\n",
       "       [ 8, 10, 12],\n",
       "       [21, 24, 27]])"
      ]
     },
     "execution_count": 19,
     "metadata": {},
     "output_type": "execute_result"
    }
   ],
   "source": [
    "DA = np.matmul(A_dia, A)\n",
    "DA # 대각행렬이 앞이면, row 기준 곱 "
   ]
  },
  {
   "cell_type": "markdown",
   "metadata": {},
   "source": [
    "## 단위행렬\n",
    "주대각이 1이고, 나머지는 모두 0, 기호로 I (Identity matrix)\n",
    "특정 행렬 A에 대해, AI = IA = A "
   ]
  },
  {
   "cell_type": "code",
   "execution_count": 22,
   "metadata": {},
   "outputs": [
    {
     "data": {
      "text/plain": [
       "[[1, 0, 0, 0, 0],\n",
       " [0, 1, 0, 0, 0],\n",
       " [0, 0, 1, 0, 0],\n",
       " [0, 0, 0, 1, 0],\n",
       " [0, 0, 0, 0, 1]]"
      ]
     },
     "execution_count": 22,
     "metadata": {},
     "output_type": "execute_result"
    }
   ],
   "source": [
    "def identity (n):\n",
    "    I = []\n",
    "    for i in range (0,n):\n",
    "        row = []\n",
    "        for j in range (0,n):\n",
    "            if i == j:\n",
    "                row.append(1)\n",
    "            else: \n",
    "                row.append(0)\n",
    "        I.append(row)\n",
    "    \n",
    "    return I \n",
    "\n",
    "identity(5)"
   ]
  },
  {
   "cell_type": "code",
   "execution_count": 26,
   "metadata": {},
   "outputs": [
    {
     "name": "stdout",
     "output_type": "stream",
     "text": [
      "[[1 2 3]\n",
      " [4 5 6]\n",
      " [7 8 9]] \n",
      "\n",
      "[[1, 0, 0], [0, 1, 0], [0, 0, 1]] \n",
      "\n",
      "[[1 2 3]\n",
      " [4 5 6]\n",
      " [7 8 9]] \n",
      "\n",
      "[[1 2 3]\n",
      " [4 5 6]\n",
      " [7 8 9]] \n",
      "\n"
     ]
    }
   ],
   "source": [
    "A = np.array([[1,2,3],[4,5,6],[7,8,9]])\n",
    "print(A, \"\\n\")\n",
    "\n",
    "I = identity(3)\n",
    "print(I, \"\\n\") \n",
    "\n",
    "AI = np.matmul(A,I)\n",
    "IA = np.matmul(I,A)\n",
    "\n",
    "print(AI, \"\\n\")\n",
    "print(IA, \"\\n\")"
   ]
  },
  {
   "cell_type": "markdown",
   "metadata": {},
   "source": [
    "## 삼각 행렬 (triangular matrix)\n",
    "구성 원소가 삼각형 형태 - upper triangular matrix, lower triangular matrix"
   ]
  },
  {
   "cell_type": "code",
   "execution_count": 31,
   "metadata": {},
   "outputs": [
    {
     "data": {
      "text/plain": [
       "array([[1, 2, 3],\n",
       "       [0, 5, 6],\n",
       "       [0, 0, 9]])"
      ]
     },
     "execution_count": 31,
     "metadata": {},
     "output_type": "execute_result"
    }
   ],
   "source": [
    "A = [[1,2,3], [4,5,6], [7,8,9]]\n",
    "\n",
    "n = len(A) # 3\n",
    "p = len(A[0]) # 3\n",
    "\n",
    "utri = []\n",
    "\n",
    "for i in range (0, n):\n",
    "    row = []\n",
    "    for j in range (0, p):\n",
    "        if i > j: # lower triangular 는 i < j 로 하면 됨 \n",
    "            row.append(0)\n",
    "        else: \n",
    "            row.append(A[i][j])\n",
    "    utri.append(row)\n",
    "\n",
    "np.array(utri)"
   ]
  },
  {
   "cell_type": "code",
   "execution_count": 34,
   "metadata": {},
   "outputs": [
    {
     "name": "stdout",
     "output_type": "stream",
     "text": [
      "[[1 2 3]\n",
      " [0 5 6]\n",
      " [0 0 9]] \n",
      "\n",
      "[[1 0 0]\n",
      " [4 5 0]\n",
      " [7 8 9]]\n"
     ]
    }
   ],
   "source": [
    "# 넘파이\n",
    "\n",
    "A = np.array([[1,2,3], [4,5,6], [7,8,9]])\n",
    "\n",
    "Au = np.triu(A)\n",
    "Al = np.tril(A)\n",
    "print(Au, \"\\n\")\n",
    "print(Al)"
   ]
  },
  {
   "cell_type": "markdown",
   "metadata": {},
   "source": [
    "## 토플리츠 행렬 (Toeplitz matrix)\n"
   ]
  },
  {
   "cell_type": "code",
   "execution_count": 38,
   "metadata": {},
   "outputs": [],
   "source": [
    "a = [1,0,-2,-4]\n",
    "b = [1,3,5,7,9]"
   ]
  },
  {
   "cell_type": "code",
   "execution_count": 36,
   "metadata": {},
   "outputs": [
    {
     "name": "stdout",
     "output_type": "stream",
     "text": [
      "4\n",
      "5\n"
     ]
    }
   ],
   "source": [
    "n1 = len(a)\n",
    "n2 = len(b)\n"
   ]
  },
  {
   "cell_type": "code",
   "execution_count": 41,
   "metadata": {},
   "outputs": [
    {
     "data": {
      "text/plain": [
       "array([[ 1,  3,  5,  7,  9],\n",
       "       [ 0,  1,  3,  5,  7],\n",
       "       [-2,  0,  1,  3,  5],\n",
       "       [-4, -2,  0,  1,  3]])"
      ]
     },
     "execution_count": 41,
     "metadata": {},
     "output_type": "execute_result"
    }
   ],
   "source": [
    "A = []\n",
    "\n",
    "for i in range(0, n1):\n",
    "    row = []\n",
    "    for j in range (0, n2):\n",
    "        if i > j:\n",
    "            row.append(a[i-j])\n",
    "        else:\n",
    "            row.append(b[j-i])\n",
    "    A.append(row)\n",
    "\n",
    "np.array(A)"
   ]
  },
  {
   "cell_type": "code",
   "execution_count": 43,
   "metadata": {},
   "outputs": [
    {
     "name": "stdout",
     "output_type": "stream",
     "text": [
      "[[ 1  3  5  7  9]\n",
      " [ 0  1  3  5  7]\n",
      " [-2  0  1  3  5]\n",
      " [-4 -2  0  1  3]]\n"
     ]
    }
   ],
   "source": [
    "## scipy 사용\n",
    "\n",
    "from scipy.linalg import toeplitz\n",
    "A = toeplitz([1,0,-2,-4],[1,3,5,7,9])\n",
    "print(A)"
   ]
  },
  {
   "cell_type": "markdown",
   "metadata": {},
   "source": [
    "## 이중 대각 행렬 bidiagonal matrix\n",
    "대각 원소 위/아래 (upper/lower bidiagonal matrix) 성분도 0이 아닌 대각 행렬"
   ]
  },
  {
   "cell_type": "code",
   "execution_count": 45,
   "metadata": {},
   "outputs": [],
   "source": [
    "A = [[1,2,1,3],[5,3,4,1],[2,1,7,9],[2,8,1,3]]\n",
    "n = len(A)\n",
    "p = len(A[0])"
   ]
  },
  {
   "cell_type": "code",
   "execution_count": 49,
   "metadata": {},
   "outputs": [
    {
     "name": "stdout",
     "output_type": "stream",
     "text": [
      "[[1 2 1 3]\n",
      " [5 3 4 1]\n",
      " [2 1 7 9]\n",
      " [2 8 1 3]] \n",
      "\n",
      "[[1 2 0 0]\n",
      " [0 3 4 0]\n",
      " [0 0 7 9]\n",
      " [0 0 0 3]]\n"
     ]
    }
   ],
   "source": [
    "res = []\n",
    "for i in range (0,n): \n",
    "    row = []\n",
    "    for j in range (0,p):\n",
    "        if i > j or j-i > 1: \n",
    "            row.append(0)\n",
    "        else:\n",
    "            row.append(A[i][j])\n",
    "    res.append(row)\n",
    "\n",
    "print(np.array(A), \"\\n\")\n",
    "print(np.array(res))"
   ]
  },
  {
   "cell_type": "code",
   "execution_count": 54,
   "metadata": {},
   "outputs": [
    {
     "name": "stdout",
     "output_type": "stream",
     "text": [
      "[1 3 7 3] \n",
      "\n",
      "[2 4 9]\n"
     ]
    },
    {
     "data": {
      "text/plain": [
       "array([[0, 2, 0, 0],\n",
       "       [0, 0, 4, 0],\n",
       "       [0, 0, 0, 9],\n",
       "       [0, 0, 0, 0]])"
      ]
     },
     "execution_count": 54,
     "metadata": {},
     "output_type": "execute_result"
    }
   ],
   "source": [
    "## numpy\n",
    "diag_ele = np.diag(A)\n",
    "print(diag_ele, \"\\n\")\n",
    "np.diag(diag_ele)\n",
    "\n",
    "u_diag_ele = np.diag(A, k=1)\n",
    "print(u_diag_ele)\n",
    "\n",
    "np.diag(u_diag_ele, k=1)"
   ]
  },
  {
   "cell_type": "markdown",
   "metadata": {},
   "source": [
    "## householder 행렬 (Householder matrix)\n",
    "- 어떤 행렬을 다른 형태로 변환할 때 사용하는 행렬 \n",
    "- 정사각 행렬이며, 모든 열이 정규 직교 (orthonomal) 임\n",
    "\n",
    "v = ([v1],\n",
    "    [v2],\n",
    "    [v3],\n",
    "    [v4]]) \n",
    "    일 때 ,\n",
    "\n",
    "H = I - 2 * vvT/vTv  \n",
    "vvT = 내적\n",
    "vTv = 외적"
   ]
  },
  {
   "cell_type": "code",
   "execution_count": null,
   "metadata": {},
   "outputs": [],
   "source": [
    "def outer_product(a,b):\n",
    "    res = []\n",
    "    n1 = len(a)\n",
    "    n2 = len(b)\n",
    "    for i in range(0,n1):\n",
    "        row =[]\n",
    "        for j in range (0, n2):\n",
    "            val = a[i]*b[j]\n",
    "            row.append(val)\n",
    "        res.append(row)\n",
    "    return res"
   ]
  },
  {
   "cell_type": "code",
   "execution_count": null,
   "metadata": {},
   "outputs": [],
   "source": [
    "def inner_product(a,b):\n",
    "    res = []\n",
    "    n = len(a)\n",
    "    res = 0\n",
    "    for i in range(0,n):\n",
    "        res += a[i]*b[i]\n",
    "    return res"
   ]
  },
  {
   "cell_type": "code",
   "execution_count": 63,
   "metadata": {},
   "outputs": [],
   "source": [
    "def subtract(A,B):\n",
    "    n = len(A)\n",
    "    p = len(A[0])\n",
    "    \n",
    "    res = []\n",
    "    for i in range(0,n):\n",
    "        row = []\n",
    "        for j in range(0,p):\n",
    "            val = A[i][j] - B[i][j]\n",
    "            row.append(val)\n",
    "        res.append(row)\n",
    "    return res"
   ]
  },
  {
   "cell_type": "code",
   "execution_count": 64,
   "metadata": {},
   "outputs": [],
   "source": [
    "def householder(v):\n",
    "    n = len(v)\n",
    "    outer_mat = outer_product(v,v)\n",
    "    inner_val = inner_product(v,v)\n",
    "    V = []\n",
    "    for i in range(0,n):\n",
    "        row = []\n",
    "        for j in range(0, n):\n",
    "            val = (2/inner_val)*outer_mat[i][j]\n",
    "            row.append(val)\n",
    "        V.append(row)\n",
    "    H = subtract(identity(n),V)\n",
    "    return H"
   ]
  },
  {
   "cell_type": "code",
   "execution_count": 65,
   "metadata": {},
   "outputs": [
    {
     "data": {
      "text/plain": [
       "[[0.8571428571428572, 0.0, -0.2857142857142857, -0.42857142857142855],\n",
       " [0.0, 1.0, 0.0, 0.0],\n",
       " [-0.2857142857142857, 0.0, 0.4285714285714286, -0.8571428571428571],\n",
       " [-0.42857142857142855, 0.0, -0.8571428571428571, -0.2857142857142856]]"
      ]
     },
     "execution_count": 65,
     "metadata": {},
     "output_type": "execute_result"
    }
   ],
   "source": [
    "a = [1,0,2,3]\n",
    "\n",
    "householder(a)"
   ]
  },
  {
   "cell_type": "code",
   "execution_count": null,
   "metadata": {},
   "outputs": [],
   "source": []
  }
 ],
 "metadata": {
  "interpreter": {
   "hash": "aee8b7b246df8f9039afb4144a1f6fd8d2ca17a180786b69acc140d282b71a49"
  },
  "kernelspec": {
   "display_name": "Python 3.10.3 64-bit",
   "language": "python",
   "name": "python3"
  },
  "language_info": {
   "codemirror_mode": {
    "name": "ipython",
    "version": 3
   },
   "file_extension": ".py",
   "mimetype": "text/x-python",
   "name": "python",
   "nbconvert_exporter": "python",
   "pygments_lexer": "ipython3",
   "version": "3.10.3"
  },
  "orig_nbformat": 4
 },
 "nbformat": 4,
 "nbformat_minor": 2
}
