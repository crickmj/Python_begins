{
 "cells": [
  {
   "cell_type": "markdown",
   "metadata": {},
   "source": [
    "## 배열 연산 - 브로드 캐스팅\n",
    "- vectorized 사용 \n",
    "- 일반적으로 Numpy의 범용 함수 (Ufunc) 을 통해 구현\n",
    "- 배열 요소에 대한 반복적 계산을 효율적으로 사용 "
   ]
  },
  {
   "cell_type": "code",
   "execution_count": 3,
   "metadata": {},
   "outputs": [],
   "source": [
    "import numpy as np"
   ]
  },
  {
   "cell_type": "code",
   "execution_count": 5,
   "metadata": {},
   "outputs": [
    {
     "name": "stdout",
     "output_type": "stream",
     "text": [
      "[6 7 8]\n"
     ]
    }
   ],
   "source": [
    "a1 = np.array([1,2,3]) \n",
    "print(a1 + 5)"
   ]
  },
  {
   "cell_type": "code",
   "execution_count": 10,
   "metadata": {},
   "outputs": [
    {
     "name": "stdout",
     "output_type": "stream",
     "text": [
      "[1 2 3] \n",
      "\n",
      "[[1 2 3]\n",
      " [4 5 6]\n",
      " [7 8 9]] \n",
      "\n",
      "[[ 2  4  6]\n",
      " [ 5  7  9]\n",
      " [ 8 10 12]]\n"
     ]
    }
   ],
   "source": [
    "a2 = np.arange(1,10).reshape(3,3)\n",
    "print(a1, \"\\n\")\n",
    "print(a2, \"\\n\")\n",
    "print(a1 + a2)"
   ]
  },
  {
   "cell_type": "code",
   "execution_count": 11,
   "metadata": {},
   "outputs": [
    {
     "name": "stdout",
     "output_type": "stream",
     "text": [
      "[1 2 3] \n",
      "\n",
      "[[1]\n",
      " [2]\n",
      " [3]] \n",
      "\n",
      "[[2 3 4]\n",
      " [3 4 5]\n",
      " [4 5 6]]\n"
     ]
    }
   ],
   "source": [
    "b2 = np.array([1,2,3]).reshape(3,1)\n",
    "\n",
    "print(a1, \"\\n\")\n",
    "print(b2, \"\\n\")\n",
    "print(a1 + b2)"
   ]
  },
  {
   "cell_type": "markdown",
   "metadata": {},
   "source": [
    "##  산술 연산 (arithmetic operators) \n",
    "\n",
    "- '+' np.add 덧셈\n",
    "- '-' np.substract 뺄셈\n",
    "- '-' np.negative 단항 음수\n",
    "- '*' np.multiply 곱셈\n",
    "- '/' np.divide 나눗셈\n",
    "- '//' np.floor_devide 나눗셈 내림\n",
    "- '**' np.power 제곱, 지수연산\n",
    "- '%'np.mod 나머지 연산 \n",
    "\n",
    "\n",
    "\n"
   ]
  },
  {
   "cell_type": "code",
   "execution_count": 18,
   "metadata": {},
   "outputs": [
    {
     "name": "stdout",
     "output_type": "stream",
     "text": [
      "[1 2 3 4 5 6 7 8 9] \n",
      "\n",
      "[ 2  3  4  5  6  7  8  9 10] \n",
      "\n",
      "[11 12 13 14 15 16 17 18 19] \n",
      "\n",
      "[-9 -8 -7 -6 -5 -4 -3 -2 -1] \n",
      "\n",
      "[-1 -2 -3 -4 -5 -6 -7 -8 -9] \n",
      "\n",
      "[ 2  4  6  8 10 12 14 16 18] \n",
      "\n",
      "[0.5 1.  1.5 2.  2.5 3.  3.5 4.  4.5] \n",
      "\n",
      "[0 1 1 2 2 3 3 4 4] \n",
      "\n",
      "[ 1  4  9 16 25 36 49 64 81] \n",
      "\n",
      "[1 0 1 0 1 0 1 0 1] \n",
      "\n"
     ]
    }
   ],
   "source": [
    "a1 = np.arange(1,10)\n",
    "print(a1, \"\\n\")\n",
    "print(a1 + 1, \"\\n\")\n",
    "print(np.add(a1,10), \"\\n\")\n",
    "print(np.subtract(a1, 10), \"\\n\")\n",
    "print(-a1, \"\\n\") # = print(np.negative(a1))\n",
    "print(np.multiply(a1, 2),\"\\n\")\n",
    "print(np.divide(a1, 2), \"\\n\")\n",
    "print(np.floor_divide(a1, 2),\"\\n\")\n",
    "print(np.power(a1, 2),\"\\n\")\n",
    "print(np.mod(a1, 2),\"\\n\")"
   ]
  },
  {
   "cell_type": "code",
   "execution_count": 20,
   "metadata": {},
   "outputs": [
    {
     "name": "stdout",
     "output_type": "stream",
     "text": [
      "[1 2 3 4 5 6 7 8 9] \n",
      "\n",
      "[4 6 3 5 8 7 9 9 2] \n",
      "\n",
      "[ 5  8  6  9 13 13 16 17 11] \n",
      "\n",
      "[-3 -4  0 -1 -3 -1 -2 -1  7] \n",
      "\n",
      "[ 4 12  9 20 40 42 63 72 18] \n",
      "\n",
      "[0.25       0.33333333 1.         0.8        0.625      0.85714286\n",
      " 0.77777778 0.88888889 4.5       ] \n",
      "\n",
      "[        1        64        27      1024    390625    279936  40353607\n",
      " 134217728        81] \n",
      "\n",
      "[0 0 1 0 0 0 0 0 4] \n",
      "\n"
     ]
    }
   ],
   "source": [
    "a1 = np.arange(1,10)\n",
    "print(a1, \"\\n\")\n",
    "\n",
    "b1 = np.random.randint(1, 10, size=9)\n",
    "print(b1, \"\\n\")\n",
    "print(a1 + b1,\"\\n\")\n",
    "print(a1 - b1, \"\\n\")\n",
    "print(a1 * b1, \"\\n\")\n",
    "print(a1/b1, \"\\n\")\n",
    "print(a1**b1, \"\\n\")\n",
    "print(a1//b1,\"\\n\")"
   ]
  },
  {
   "cell_type": "code",
   "execution_count": 23,
   "metadata": {},
   "outputs": [
    {
     "name": "stdout",
     "output_type": "stream",
     "text": [
      "[[1 2 3]\n",
      " [4 5 6]\n",
      " [7 8 9]]\n",
      "[[1 4 6]\n",
      " [1 3 4]\n",
      " [9 2 4]]\n"
     ]
    }
   ],
   "source": [
    "a2 = np.arange(1,10).reshape(3,3)\n",
    "b2 = np.random.randint(1,10, size=(3,3))\n",
    "print(a2)\n",
    "print(b2)"
   ]
  },
  {
   "cell_type": "code",
   "execution_count": 24,
   "metadata": {},
   "outputs": [
    {
     "name": "stdout",
     "output_type": "stream",
     "text": [
      "[[ 2  6  9]\n",
      " [ 5  8 10]\n",
      " [16 10 13]] \n",
      "\n",
      "[[ 0 -2 -3]\n",
      " [ 3  2  2]\n",
      " [-2  6  5]] \n",
      "\n",
      "[[ 1  8 18]\n",
      " [ 4 15 24]\n",
      " [63 16 36]] \n",
      "\n",
      "[[1.         0.5        0.5       ]\n",
      " [4.         1.66666667 1.5       ]\n",
      " [0.77777778 4.         2.25      ]] \n",
      "\n",
      "[[1 0 0]\n",
      " [4 1 1]\n",
      " [0 4 2]] \n",
      "\n",
      "[[       1       16      729]\n",
      " [       4      125     1296]\n",
      " [40353607       64     6561]] \n",
      "\n",
      "[[0 2 3]\n",
      " [0 2 2]\n",
      " [7 0 1]] \n",
      "\n"
     ]
    }
   ],
   "source": [
    "print(a2 + b2, \"\\n\")\n",
    "print(a2 - b2, \"\\n\")\n",
    "print(a2 * b2, \"\\n\")\n",
    "print(a2 / b2, \"\\n\")\n",
    "print(a2 // b2, \"\\n\")\n",
    "print(a2 ** b2, \"\\n\")\n",
    "print(a2 % b2, \"\\n\")"
   ]
  },
  {
   "cell_type": "code",
   "execution_count": 30,
   "metadata": {},
   "outputs": [
    {
     "name": "stdout",
     "output_type": "stream",
     "text": [
      "[[-2  7  5]\n",
      " [-6 -1  0]\n",
      " [-9 -9 -3]]\n",
      "[[       nan 2.64575131 2.23606798]\n",
      " [       nan        nan 0.        ]\n",
      " [       nan        nan        nan]]\n"
     ]
    },
    {
     "name": "stderr",
     "output_type": "stream",
     "text": [
      "/var/folders/4f/jnlgcb9n6pg311w43wdsllwc0000gn/T/ipykernel_10817/4186405359.py:9: RuntimeWarning: invalid value encountered in sqrt\n",
      "  print(np.sqrt(a1))\n"
     ]
    }
   ],
   "source": [
    "# 절대값 함수\n",
    "\n",
    "a1 = np.random.randint(-10, 10, size=(3,3))\n",
    "print(a1)\n",
    "np.absolute(a1)\n",
    "\n",
    "# 제곱근 함수 \n",
    "\n",
    "print(np.sqrt(a1)) # 음수 제곱근 nan으로 뜸"
   ]
  },
  {
   "cell_type": "code",
   "execution_count": 35,
   "metadata": {},
   "outputs": [
    {
     "name": "stdout",
     "output_type": "stream",
     "text": [
      "[6 1 2 6 4] \n",
      "\n",
      "[403.42879349   2.71828183   7.3890561  403.42879349  54.59815003] \n",
      "\n",
      "[64.  2.  4. 64. 16.] \n",
      "\n",
      "[36  1  4 36 16] \n",
      "\n"
     ]
    }
   ],
   "source": [
    "# 지수와 로그 함수\n",
    "\n",
    "a1 = np.random.randint(1, 10, size=5)\n",
    "print(a1, \"\\n\")\n",
    "print(np.exp(a1),\"\\n\") # 밑이 자연상수 (e)인 지수-- e^x  \n",
    "print(np.exp2(a1),\"\\n\") # 밑이 2인 지수 -- 2^x\n",
    "print(np.power(a1,2),\"\\n\")"
   ]
  },
  {
   "cell_type": "code",
   "execution_count": 37,
   "metadata": {},
   "outputs": [
    {
     "name": "stdout",
     "output_type": "stream",
     "text": [
      "[6 1 2 6 4] \n",
      "\n",
      "[1.79175947 0.         0.69314718 1.79175947 1.38629436] \n",
      "\n",
      "[2.5849625 0.        1.        2.5849625 2.       ] \n",
      "\n",
      "[0.77815125 0.         0.30103    0.77815125 0.60205999] \n",
      "\n"
     ]
    }
   ],
   "source": [
    "print(a1, \"\\n\")\n",
    "print(np.log(a1),\"\\n\") # 자연 로그\n",
    "print(np.log2(a1),\"\\n\")  # 밑 2\n",
    "print(np.log10(a1),\"\\n\") # 밑 10"
   ]
  },
  {
   "cell_type": "markdown",
   "metadata": {},
   "source": [
    "## 삼각함수"
   ]
  },
  {
   "cell_type": "code",
   "execution_count": 39,
   "metadata": {},
   "outputs": [
    {
     "name": "stdout",
     "output_type": "stream",
     "text": [
      "[0.         1.57079633 3.14159265]\n",
      "[0.0000000e+00 1.0000000e+00 1.2246468e-16] \n",
      "\n",
      "[ 1.000000e+00  6.123234e-17 -1.000000e+00] \n",
      "\n",
      "[ 0.00000000e+00  1.63312394e+16 -1.22464680e-16] \n",
      "\n"
     ]
    }
   ],
   "source": [
    "t = np.linspace(0, np.pi, 3) # 균등하게 나누는 게 linspace\n",
    "print(t)\n",
    "\n",
    "print(np.sin(t),\"\\n\")\n",
    "print(np.cos(t),\"\\n\")\n",
    "print(np.tan(t),\"\\n\")\n"
   ]
  },
  {
   "cell_type": "code",
   "execution_count": 42,
   "metadata": {},
   "outputs": [
    {
     "name": "stdout",
     "output_type": "stream",
     "text": [
      "[-1, 0, 1] \n",
      "\n",
      "[-1.57079633  0.          1.57079633] \n",
      "\n",
      "[3.14159265 1.57079633 0.        ] \n",
      "\n",
      "[-0.78539816  0.          0.78539816] \n",
      "\n"
     ]
    }
   ],
   "source": [
    "x = [-1, 0, 1]\n",
    "\n",
    "print(x,\"\\n\")\n",
    "print(np.arcsin(x),\"\\n\")\n",
    "print(np.arccos(x),\"\\n\")\n",
    "print(np.arctan(x),\"\\n\")"
   ]
  },
  {
   "cell_type": "markdown",
   "metadata": {},
   "source": [
    "## 집계함수"
   ]
  },
  {
   "cell_type": "code",
   "execution_count": 46,
   "metadata": {},
   "outputs": [
    {
     "name": "stdout",
     "output_type": "stream",
     "text": [
      "[[7 9 3]\n",
      " [4 1 1]\n",
      " [7 1 7]] \n",
      "\n",
      "40 40 \n",
      "\n",
      "[18 11 11] [18 11 11] \n",
      "\n",
      "[18 11 11] [19  6 15] \n",
      "\n"
     ]
    }
   ],
   "source": [
    "a2 = np.random.randint(1, 10, size=(3,3))\n",
    "print(a2,\"\\n\")\n",
    "print(a2.sum(), np.sum(a2), \"\\n\") # 행열 구분없이 다 더한거\n",
    "print(a2.sum(axis=0), np.sum(a2, axis=0), \"\\n\") # 아래로 다 더함\n",
    "print(a2.sum(axis=0), np.sum(a2, axis=1), \"\\n\") # 옆으로 다 더함\n"
   ]
  },
  {
   "cell_type": "code",
   "execution_count": 47,
   "metadata": {},
   "outputs": [
    {
     "name": "stdout",
     "output_type": "stream",
     "text": [
      "[[4 4 9]\n",
      " [9 9 3]\n",
      " [4 3 1]] \n",
      "\n",
      "[ 4  8 17 26 35 38 42 45 46] \n",
      "\n",
      "[[ 4  4  9]\n",
      " [13 13 12]\n",
      " [17 16 13]] \n",
      "\n",
      "[[ 4  8 17]\n",
      " [ 9 18 21]\n",
      " [ 4  7  8]] \n",
      "\n"
     ]
    }
   ],
   "source": [
    "# 누적합 계산\n",
    "a2 = np.random.randint(1, 10, size=(3,3))\n",
    "print(a2,\"\\n\")\n",
    "print(np.cumsum(a2), \"\\n\") # 행열 구분없이 다 더한거\n",
    "print(np.cumsum(a2, axis=0), \"\\n\") # 아래로 다 더함\n",
    "print(np.cumsum(a2, axis=1), \"\\n\") # 옆으로 다 더함\n"
   ]
  },
  {
   "cell_type": "code",
   "execution_count": 48,
   "metadata": {},
   "outputs": [
    {
     "name": "stdout",
     "output_type": "stream",
     "text": [
      "[[9 9 4]\n",
      " [9 3 9]\n",
      " [5 4 1]] \n",
      "\n",
      "[[ 0 -5]\n",
      " [-6  6]\n",
      " [-1 -3]] \n",
      "\n",
      "[[ 0 -6  5]\n",
      " [-4  1 -8]] \n",
      "\n",
      "[[ 0 -5]\n",
      " [-6  6]\n",
      " [-1 -3]] \n",
      "\n"
     ]
    }
   ],
   "source": [
    "# 차분 계산\n",
    "a2 = np.random.randint(1, 10, size=(3,3))\n",
    "print(a2,\"\\n\")\n",
    "print(np.diff(a2), \"\\n\") # \n",
    "print(np.diff(a2, axis=0), \"\\n\") # 아래 차분\n",
    "print(np.diff(a2, axis=1), \"\\n\") # 옆 차분\n"
   ]
  },
  {
   "cell_type": "code",
   "execution_count": 49,
   "metadata": {},
   "outputs": [
    {
     "name": "stdout",
     "output_type": "stream",
     "text": [
      "[[5 4 7]\n",
      " [9 1 9]\n",
      " [6 1 7]] \n",
      "\n",
      "476280 \n",
      "\n",
      "[270   4 441] \n",
      "\n",
      "[140  81  42] \n",
      "\n"
     ]
    }
   ],
   "source": [
    "#  곱 계산\n",
    "\n",
    "a2 = np.random.randint(1, 10, size=(3,3))\n",
    "print(a2,\"\\n\")\n",
    "print(np.prod(a2), \"\\n\") # \n",
    "print(np.prod(a2, axis=0), \"\\n\") # 아래로 다 곱\n",
    "print(np.prod(a2, axis=1), \"\\n\") # 옆으로 다 곱\n"
   ]
  },
  {
   "cell_type": "code",
   "execution_count": 50,
   "metadata": {},
   "outputs": [
    {
     "name": "stdout",
     "output_type": "stream",
     "text": [
      "[[6 4 2]\n",
      " [9 1 5]\n",
      " [7 6 8]] \n",
      "\n",
      "[     6     24     48    432    432   2160  15120  90720 725760] \n",
      "\n",
      "[[  6   4   2]\n",
      " [ 54   4  10]\n",
      " [378  24  80]] \n",
      "\n",
      "[[  6  24  48]\n",
      " [  9   9  45]\n",
      " [  7  42 336]] \n",
      "\n"
     ]
    }
   ],
   "source": [
    "#  누적곱 계산\n",
    "\n",
    "a2 = np.random.randint(1, 10, size=(3,3))\n",
    "print(a2,\"\\n\")\n",
    "print(np.cumprod(a2), \"\\n\") # \n",
    "print(np.cumprod(a2, axis=0), \"\\n\") # 아래로 다 곱\n",
    "print(np.cumprod(a2, axis=1), \"\\n\") # 옆으로 다 곱\n"
   ]
  },
  {
   "cell_type": "code",
   "execution_count": 55,
   "metadata": {},
   "outputs": [
    {
     "name": "stdout",
     "output_type": "stream",
     "text": [
      "[[1 1 1]\n",
      " [1 1 1]\n",
      " [1 1 1]]\n",
      "[[12 12 12]\n",
      " [15 15 15]\n",
      " [21 21 21]]\n",
      "[[12 12 12]\n",
      " [15 15 15]\n",
      " [21 21 21]]\n"
     ]
    }
   ],
   "source": [
    "# 점곱/행렬곱 dot()/matmul()\n",
    "\n",
    "b2 = np.ones_like(a2)\n",
    "print(b2)\n",
    "print(np.dot(a2, b2)) # a2의 x열, b2의 y열 곱해서 전체 열에 추가 .. \n",
    "print(np.matmul(a2, b2))"
   ]
  },
  {
   "cell_type": "code",
   "execution_count": 60,
   "metadata": {},
   "outputs": [
    {
     "name": "stdout",
     "output_type": "stream",
     "text": [
      "[[6 4 2]\n",
      " [9 1 5]\n",
      " [7 6 8]] \n",
      "\n",
      "[[1 1 1]\n",
      " [1 1 1]\n",
      " [1 1 1]] \n",
      "\n",
      "48 \n",
      "\n",
      "[[[[6 6 6]\n",
      "   [6 6 6]\n",
      "   [6 6 6]]\n",
      "\n",
      "  [[4 4 4]\n",
      "   [4 4 4]\n",
      "   [4 4 4]]\n",
      "\n",
      "  [[2 2 2]\n",
      "   [2 2 2]\n",
      "   [2 2 2]]]\n",
      "\n",
      "\n",
      " [[[9 9 9]\n",
      "   [9 9 9]\n",
      "   [9 9 9]]\n",
      "\n",
      "  [[1 1 1]\n",
      "   [1 1 1]\n",
      "   [1 1 1]]\n",
      "\n",
      "  [[5 5 5]\n",
      "   [5 5 5]\n",
      "   [5 5 5]]]\n",
      "\n",
      "\n",
      " [[[7 7 7]\n",
      "   [7 7 7]\n",
      "   [7 7 7]]\n",
      "\n",
      "  [[6 6 6]\n",
      "   [6 6 6]\n",
      "   [6 6 6]]\n",
      "\n",
      "  [[8 8 8]\n",
      "   [8 8 8]\n",
      "   [8 8 8]]]] \n",
      "\n",
      "[[12 12 12]\n",
      " [15 15 15]\n",
      " [21 21 21]] \n",
      "\n"
     ]
    }
   ],
   "source": [
    "# 텐서곱 tensordot() \n",
    "\n",
    "print(a2, \"\\n\")\n",
    "print(b2, \"\\n\")\n",
    "print(np.tensordot(a2, b2),\"\\n\") # 행렬 갂기리 다 더해서 추가!\n",
    "print(np.tensordot(a2, b2, axes=0),\"\\n\")\n",
    "print(np.tensordot(a2, b2, axes=1), \"\\n\")\n",
    "\n"
   ]
  },
  {
   "cell_type": "markdown",
   "metadata": {},
   "source": [
    "## cross 벡터 곱 \n",
    "u = [u1, u2, u3]\n",
    "v = [v1, v2, v3] \n",
    "\n",
    "u*v 는 당연히 [u] * [v] * sin  이겠지? \n",
    "\n",
    "cross 곱은\n",
    "\n",
    "cross(u,v) = [u2*u3-u3*v2, u3*v1-u1*v3, u1*v2 - u2*v1]"
   ]
  },
  {
   "cell_type": "code",
   "execution_count": 61,
   "metadata": {},
   "outputs": [
    {
     "name": "stdout",
     "output_type": "stream",
     "text": [
      "[-3  6 -3]\n"
     ]
    }
   ],
   "source": [
    "# 벡터곱\n",
    "\n",
    "x = [1,2,3]\n",
    "y = [4,5,6]\n",
    "print(np.cross(x,y)) # cross vector 곱, "
   ]
  },
  {
   "cell_type": "code",
   "execution_count": 64,
   "metadata": {},
   "outputs": [
    {
     "name": "stdout",
     "output_type": "stream",
     "text": [
      "[[6 4 2]\n",
      " [9 1 5]\n",
      " [7 6 8]] \n",
      "\n",
      "[[1 1 1]\n",
      " [1 1 1]\n",
      " [1 1 1]] \n",
      "\n",
      "[[12 12 12]\n",
      " [15 15 15]\n",
      " [21 21 21]] \n",
      "\n",
      "[[6 6 6 6 6 6 6 6 6]\n",
      " [4 4 4 4 4 4 4 4 4]\n",
      " [2 2 2 2 2 2 2 2 2]\n",
      " [9 9 9 9 9 9 9 9 9]\n",
      " [1 1 1 1 1 1 1 1 1]\n",
      " [5 5 5 5 5 5 5 5 5]\n",
      " [7 7 7 7 7 7 7 7 7]\n",
      " [6 6 6 6 6 6 6 6 6]\n",
      " [8 8 8 8 8 8 8 8 8]] \n",
      "\n"
     ]
    }
   ],
   "source": [
    "# 내적/외적 \n",
    "\n",
    "print(a2, \"\\n\")\n",
    "print(b2, \"\\n\") \n",
    "\n",
    "print(np.inner(a2, b2), \"\\n\")\n",
    "print(np.outer(a2, b2), \"\\n\")"
   ]
  },
  {
   "cell_type": "code",
   "execution_count": null,
   "metadata": {},
   "outputs": [],
   "source": [
    "# 평균, 표준편차, 분산, 최소, 최대 \n",
    "# np.mean(), np.std(), np.min(), np.max(), np.var(), np.median() "
   ]
  },
  {
   "cell_type": "code",
   "execution_count": 66,
   "metadata": {},
   "outputs": [
    {
     "name": "stdout",
     "output_type": "stream",
     "text": [
      "[[6 4 2]\n",
      " [9 1 5]\n",
      " [7 6 8]]\n",
      "4\n",
      "3\n"
     ]
    }
   ],
   "source": [
    "# 최소/최대 인덱스 \n",
    "\n",
    "print(a2)\n",
    "print(np.argmin(a2))\n",
    "print(np.argmax(a2)) # 인덱스로 출력함 컬럼 있어도 그냥 순서대로 읽으면 됨 "
   ]
  },
  {
   "cell_type": "code",
   "execution_count": 81,
   "metadata": {},
   "outputs": [
    {
     "name": "stdout",
     "output_type": "stream",
     "text": [
      "[0 1 2 3] \n",
      "\n",
      "[0.  0.6 1.2 1.8 2.4 3. ] \n",
      "\n",
      "[0 1 2 2 3 3] \n",
      "\n",
      "[0 0 1 1 2 3] \n",
      "\n",
      "[0 1 1 2 2 3] \n",
      "\n",
      "[0.  0.5 1.5 1.5 2.5 3. ] \n",
      "\n"
     ]
    },
    {
     "name": "stderr",
     "output_type": "stream",
     "text": [
      "/var/folders/4f/jnlgcb9n6pg311w43wdsllwc0000gn/T/ipykernel_10817/3483874500.py:5: DeprecationWarning: the `interpolation=` argument to percentile was renamed to `method=`, which has additional options.\n",
      "Users of the modes 'nearest', 'lower', 'higher', or 'midpoint' are encouraged to review the method they. (Deprecated NumPy 1.22)\n",
      "  print(np.percentile(a1, [0,20,40,60,80,100], interpolation=\"linear\"),\"\\n\")\n",
      "/var/folders/4f/jnlgcb9n6pg311w43wdsllwc0000gn/T/ipykernel_10817/3483874500.py:6: DeprecationWarning: the `interpolation=` argument to percentile was renamed to `method=`, which has additional options.\n",
      "Users of the modes 'nearest', 'lower', 'higher', or 'midpoint' are encouraged to review the method they. (Deprecated NumPy 1.22)\n",
      "  print(np.percentile(a1, [0,20,40,60,80,100], interpolation=\"higher\"),\"\\n\")\n",
      "/var/folders/4f/jnlgcb9n6pg311w43wdsllwc0000gn/T/ipykernel_10817/3483874500.py:7: DeprecationWarning: the `interpolation=` argument to percentile was renamed to `method=`, which has additional options.\n",
      "Users of the modes 'nearest', 'lower', 'higher', or 'midpoint' are encouraged to review the method they. (Deprecated NumPy 1.22)\n",
      "  print(np.percentile(a1, [0,20,40,60,80,100], interpolation=\"lower\"),\"\\n\")\n",
      "/var/folders/4f/jnlgcb9n6pg311w43wdsllwc0000gn/T/ipykernel_10817/3483874500.py:8: DeprecationWarning: the `interpolation=` argument to percentile was renamed to `method=`, which has additional options.\n",
      "Users of the modes 'nearest', 'lower', 'higher', or 'midpoint' are encouraged to review the method they. (Deprecated NumPy 1.22)\n",
      "  print(np.percentile(a1, [0,20,40,60,80,100], interpolation=\"nearest\"),\"\\n\")\n",
      "/var/folders/4f/jnlgcb9n6pg311w43wdsllwc0000gn/T/ipykernel_10817/3483874500.py:9: DeprecationWarning: the `interpolation=` argument to percentile was renamed to `method=`, which has additional options.\n",
      "Users of the modes 'nearest', 'lower', 'higher', or 'midpoint' are encouraged to review the method they. (Deprecated NumPy 1.22)\n",
      "  print(np.percentile(a1, [0,20,40,60,80,100], interpolation=\"midpoint\"), \"\\n\")\n",
      "/var/folders/4f/jnlgcb9n6pg311w43wdsllwc0000gn/T/ipykernel_10817/3483874500.py:13: DeprecationWarning: the `interpolation=` argument to percentile was renamed to `method=`, which has additional options.\n",
      "Users of the modes 'nearest', 'lower', 'higher', or 'midpoint' are encouraged to review the method they. (Deprecated NumPy 1.22)\n",
      "  x1 = np.percentile(a1, [0,20,40,60,80,100], interpolation=\"linear\")\n",
      "/var/folders/4f/jnlgcb9n6pg311w43wdsllwc0000gn/T/ipykernel_10817/3483874500.py:14: DeprecationWarning: the `interpolation=` argument to percentile was renamed to `method=`, which has additional options.\n",
      "Users of the modes 'nearest', 'lower', 'higher', or 'midpoint' are encouraged to review the method they. (Deprecated NumPy 1.22)\n",
      "  x2 = np.percentile(a1, [0,20,40,60,80,100], interpolation=\"higher\")\n",
      "/var/folders/4f/jnlgcb9n6pg311w43wdsllwc0000gn/T/ipykernel_10817/3483874500.py:15: DeprecationWarning: the `interpolation=` argument to percentile was renamed to `method=`, which has additional options.\n",
      "Users of the modes 'nearest', 'lower', 'higher', or 'midpoint' are encouraged to review the method they. (Deprecated NumPy 1.22)\n",
      "  x3 = np.percentile(a1, [0,20,40,60,80,100], interpolation=\"lower\")\n",
      "/var/folders/4f/jnlgcb9n6pg311w43wdsllwc0000gn/T/ipykernel_10817/3483874500.py:16: DeprecationWarning: the `interpolation=` argument to percentile was renamed to `method=`, which has additional options.\n",
      "Users of the modes 'nearest', 'lower', 'higher', or 'midpoint' are encouraged to review the method they. (Deprecated NumPy 1.22)\n",
      "  x4 = np.percentile(a1, [0,20,40,60,80,100], interpolation=\"nearest\")\n",
      "/var/folders/4f/jnlgcb9n6pg311w43wdsllwc0000gn/T/ipykernel_10817/3483874500.py:17: DeprecationWarning: the `interpolation=` argument to percentile was renamed to `method=`, which has additional options.\n",
      "Users of the modes 'nearest', 'lower', 'higher', or 'midpoint' are encouraged to review the method they. (Deprecated NumPy 1.22)\n",
      "  x5 = np.percentile(a1, [0,20,40,60,80,100], interpolation=\"midpoint\")\n"
     ]
    },
    {
     "data": {
      "image/png": "[encoded data removed]",
      "text/plain": [
       "<Figure size 432x288 with 1 Axes>"
      ]
     },
     "metadata": {
      "needs_background": "light"
     },
     "output_type": "display_data"
    }
   ],
   "source": [
    "# percentile() : 백분위 수 \n",
    "\n",
    "a1 = np.array([0,1,2,3])\n",
    "print(a1,\"\\n\")\n",
    "print(np.percentile(a1, [0,20,40,60,80,100], interpolation=\"linear\"),\"\\n\")\n",
    "print(np.percentile(a1, [0,20,40,60,80,100], interpolation=\"higher\"),\"\\n\")\n",
    "print(np.percentile(a1, [0,20,40,60,80,100], interpolation=\"lower\"),\"\\n\")\n",
    "print(np.percentile(a1, [0,20,40,60,80,100], interpolation=\"nearest\"),\"\\n\")\n",
    "print(np.percentile(a1, [0,20,40,60,80,100], interpolation=\"midpoint\"), \"\\n\")\n",
    "\n",
    "import matplotlib.pyplot as plt\n",
    "\n",
    "x1 = np.percentile(a1, [0,20,40,60,80,100], interpolation=\"linear\")\n",
    "x2 = np.percentile(a1, [0,20,40,60,80,100], interpolation=\"higher\")\n",
    "x3 = np.percentile(a1, [0,20,40,60,80,100], interpolation=\"lower\")\n",
    "x4 = np.percentile(a1, [0,20,40,60,80,100], interpolation=\"nearest\")\n",
    "x5 = np.percentile(a1, [0,20,40,60,80,100], interpolation=\"midpoint\")\n",
    "\n",
    "plt.plot(x1, label = \"linear\")\n",
    "plt.plot(x2, label = \"higher\", ls='--')\n",
    "plt.plot(x3, label = \"lower\", ls='--')\n",
    "plt.plot(x4, label = \"nearest\", ls='-.')\n",
    "plt.plot(x5, label = \"midpoint\", ls='-.')\n",
    "plt.legend()\n",
    "plt.show()"
   ]
  },
  {
   "cell_type": "markdown",
   "metadata": {},
   "source": [
    "## 비교연산 (Comparison Operators)\n",
    "\n",
    "- \"==\", \"!=\", \"> or <=\", \"> or <=\"\n",
    "- np.isclose # 배열 두 개가 z*1e+02% 내외로 가까우면 T, 아니면 F\n",
    "- np.isinf # 배열이 inf 이면 T, 아니면 F\n",
    "- np.isfinite # 배열이 inf이면 F, 아니면 T\n",
    "- np.isnan # 배열이 NaN이면 T, 아니면 \n",
    "- np.count_nonzero(조건) # ex. np.count_nonzero(a1 >5) a1 중에 0이 아닌 애들 중에서, 5이상인 것 ! "
   ]
  },
  {
   "cell_type": "markdown",
   "metadata": {},
   "source": [
    "## 불리언 연산자\n",
    "- np.bitwise_and\n",
    "- np.bitwise_or\n",
    "- np.bitwise_xor\n",
    "- np.bitwise_not"
   ]
  },
  {
   "cell_type": "code",
   "execution_count": 87,
   "metadata": {},
   "outputs": [
    {
     "name": "stdout",
     "output_type": "stream",
     "text": [
      "[[1 2 3]\n",
      " [4 5 6]\n",
      " [7 8 9]]\n",
      "[[False False False]\n",
      " [False False  True]\n",
      " [ True False False]]\n",
      "[6 7]\n"
     ]
    }
   ],
   "source": [
    "a2 = np.arange(1,10).reshape(3,3)\n",
    "print(a2)\n",
    "\n",
    "print((a2>5) & (a2<8)) # 이건 불리언 인덱싱\n",
    "print(a2[(a2>5) & (a2<8)]) # 이건 [] 니까 노노 "
   ]
  },
  {
   "cell_type": "markdown",
   "metadata": {},
   "source": [
    "## 배열 졍렬"
   ]
  },
  {
   "cell_type": "code",
   "execution_count": 92,
   "metadata": {},
   "outputs": [
    {
     "name": "stdout",
     "output_type": "stream",
     "text": [
      "[6 2 3 3 9 2 6 9 5 1] \n",
      "\n",
      "[1 2 2 3 3 5 6 6 9 9] \n",
      "\n",
      "[9 1 5 2 3 8 0 6 4 7] \n",
      "\n"
     ]
    }
   ],
   "source": [
    "a1 = np.random.randint(1, 10, size =10)\n",
    "print(a1, \"\\n\")\n",
    "print(np.sort(a1), \"\\n\") # 정렬\n",
    "print(np.argsort(a1), \"\\n\") # 정렬된 인덱스 위치값만 "
   ]
  },
  {
   "cell_type": "code",
   "execution_count": 101,
   "metadata": {},
   "outputs": [
    {
     "name": "stdout",
     "output_type": "stream",
     "text": [
      "[[8 9 6]\n",
      " [1 9 6]\n",
      " [5 8 5]] \n",
      "\n",
      "[[1 8 5]\n",
      " [5 9 6]\n",
      " [8 9 6]] \n",
      "\n",
      "[[6 8 9]\n",
      " [1 6 9]\n",
      " [5 5 8]] \n",
      "\n"
     ]
    }
   ],
   "source": [
    "a2 = np.random.randint(1,10,size=(3,3))\n",
    "print(a2,\"\\n\")\n",
    "print(np.sort(a2, axis=0),\"\\n\") # col 밑으로 이어줌\n",
    "print(np.sort(a2, axis=1), \"\\n\") # row로 옆으로 sort"
   ]
  },
  {
   "cell_type": "markdown",
   "metadata": {},
   "source": [
    "## 부분정렬"
   ]
  },
  {
   "cell_type": "code",
   "execution_count": 105,
   "metadata": {},
   "outputs": [
    {
     "name": "stdout",
     "output_type": "stream",
     "text": [
      "[7 2 8 5 3 1 9 3 8 9]\n",
      "[1 2 3 3 5 7 9 8 8 9]\n"
     ]
    }
   ],
   "source": [
    "a1 = np.random.randint(1,10, size=10)\n",
    "print(a1)\n",
    "print(np.partition(a1,3)) #작은 값 3개 앞으로 빼줘 "
   ]
  },
  {
   "cell_type": "code",
   "execution_count": 118,
   "metadata": {},
   "outputs": [
    {
     "name": "stdout",
     "output_type": "stream",
     "text": [
      "[[8 4 1 6 4]\n",
      " [8 6 6 9 1]\n",
      " [9 4 7 4 3]\n",
      " [8 1 4 1 4]\n",
      " [7 2 3 5 2]] \n",
      "\n",
      "[[8 1 1 1 1]\n",
      " [7 2 3 4 2]\n",
      " [8 4 4 5 3]\n",
      " [8 4 6 6 4]\n",
      " [9 6 7 9 4]] \n",
      "\n",
      "[[1 4 4 6 8]\n",
      " [1 6 6 8 9]\n",
      " [4 3 4 7 9]\n",
      " [1 4 1 4 8]\n",
      " [2 2 3 5 7]]\n"
     ]
    }
   ],
   "source": [
    "a2 = np.random.randint(1,10, size=(5,5)) \n",
    "print(a2, \"\\n\")\n",
    "print(np.partition(a2, 3, axis=0), \"\\n\")\n",
    "print(np.partition(a2, 3, axis=1))"
   ]
  },
  {
   "cell_type": "markdown",
   "metadata": {},
   "source": [
    "## 배열 입출력\n",
    "\n",
    "- np.save() # NumPy 배열 객체 1개를 파일에 저장\n",
    "- np.savez() # 배열 여러개 저장\n",
    "- np.load() # 배열 저장 파일로부터 객체 로딩\n",
    "- np.loadtxt() # 배열 로딩 텍스트 파일로부터\n",
    "- np.savetxt() # 텍스트로 저장"
   ]
  },
  {
   "cell_type": "code",
   "execution_count": 122,
   "metadata": {},
   "outputs": [
    {
     "name": "stdout",
     "output_type": "stream",
     "text": [
      "[[2 6 7 7 9]\n",
      " [8 6 4 3 4]\n",
      " [3 6 5 2 6]\n",
      " [9 4 6 9 5]\n",
      " [2 8 9 2 3]] \n",
      "\n"
     ]
    },
    {
     "ename": "NameError",
     "evalue": "name 'T' is not defined",
     "output_type": "error",
     "traceback": [
      "\u001b[0;31m---------------------------------------------------------------------------\u001b[0m",
      "\u001b[0;31mNameError\u001b[0m                                 Traceback (most recent call last)",
      "\u001b[1;32m/Users/minjoonlim/Desktop/python workspace/mjmj/for Practice/DataScienceBook_DS/Numpy_Ufunc.ipynb Cell 41'\u001b[0m in \u001b[0;36m<cell line: 4>\u001b[0;34m()\u001b[0m\n\u001b[1;32m      <a href='vscode-notebook-cell:/Users/minjoonlim/Desktop/python%20workspace/mjmj/for%20Practice/DataScienceBook_DS/Numpy_Ufunc.ipynb#ch0000041?line=0'>1</a>\u001b[0m a2 \u001b[39m=\u001b[39m np\u001b[39m.\u001b[39mrandom\u001b[39m.\u001b[39mrandint(\u001b[39m1\u001b[39m,\u001b[39m10\u001b[39m, size\u001b[39m=\u001b[39m(\u001b[39m5\u001b[39m,\u001b[39m5\u001b[39m))\n\u001b[1;32m      <a href='vscode-notebook-cell:/Users/minjoonlim/Desktop/python%20workspace/mjmj/for%20Practice/DataScienceBook_DS/Numpy_Ufunc.ipynb#ch0000041?line=1'>2</a>\u001b[0m \u001b[39mprint\u001b[39m(a2, \u001b[39m\"\u001b[39m\u001b[39m\\n\u001b[39;00m\u001b[39m\"\u001b[39m)\n\u001b[0;32m----> <a href='vscode-notebook-cell:/Users/minjoonlim/Desktop/python%20workspace/mjmj/for%20Practice/DataScienceBook_DS/Numpy_Ufunc.ipynb#ch0000041?line=3'>4</a>\u001b[0m np\u001b[39m.\u001b[39msave(\u001b[39m'\u001b[39m\u001b[39ma\u001b[39m\u001b[39m'\u001b[39m, a2, EncodingWarning\u001b[39m=\u001b[39mT)\n",
      "\u001b[0;31mNameError\u001b[0m: name 'T' is not defined"
     ]
    }
   ],
   "source": [
    "a2 = np.random.randint(1,10, size=(5,5))\n",
    "print(a2, \"\\n\")\n",
    "\n",
    "np.save('a', a2) # 파일명 a로 a2를 지정, binary 라 machine-readabled임 "
   ]
  },
  {
   "cell_type": "code",
   "execution_count": 124,
   "metadata": {},
   "outputs": [
    {
     "name": "stdout",
     "output_type": "stream",
     "text": [
      "[[1 3 4 2 8]\n",
      " [2 4 5 2 8]\n",
      " [5 1 3 8 5]\n",
      " [1 3 7 3 5]\n",
      " [6 5 5 9 2]]\n"
     ]
    }
   ],
   "source": [
    "b2 = np.random.randint(1, 10, size=(5,5))\n",
    "print(b2)\n",
    "np.savez(\"ab\", a2, b2) #ab로 a2,b2에 대해 저장해줘"
   ]
  },
  {
   "cell_type": "code",
   "execution_count": 125,
   "metadata": {},
   "outputs": [
    {
     "name": "stdout",
     "output_type": "stream",
     "text": [
      "Numpy_Ufunc.ipynb  Numpy_intro.ipynb  a.npy              ab.npz\n"
     ]
    }
   ],
   "source": [
    "ls"
   ]
  },
  {
   "cell_type": "code",
   "execution_count": 126,
   "metadata": {},
   "outputs": [
    {
     "name": "stdout",
     "output_type": "stream",
     "text": [
      "[[6 4 9 7 5]\n",
      " [7 4 7 3 7]\n",
      " [6 6 5 7 6]\n",
      " [2 4 4 9 6]\n",
      " [6 7 1 8 6]]\n"
     ]
    }
   ],
   "source": [
    "npy = np.load(\"a.npy\")\n",
    "print(npy) # binary라 못읽어도 출력 제대로 됨 "
   ]
  },
  {
   "cell_type": "code",
   "execution_count": 130,
   "metadata": {},
   "outputs": [
    {
     "name": "stdout",
     "output_type": "stream",
     "text": [
      "['arr_0', 'arr_1']\n",
      "[[2 6 7 7 9]\n",
      " [8 6 4 3 4]\n",
      " [3 6 5 2 6]\n",
      " [9 4 6 9 5]\n",
      " [2 8 9 2 3]]\n",
      "[[1 3 4 2 8]\n",
      " [2 4 5 2 8]\n",
      " [5 1 3 8 5]\n",
      " [1 3 7 3 5]\n",
      " [6 5 5 9 2]]\n"
     ]
    }
   ],
   "source": [
    "npz = np.load(\"ab.npz\") \n",
    "print(npz.files) # np 안에 여러개 있어서 봐야함 \n",
    "print(npz['arr_0'])\n",
    "print(npz['arr_1']) # 요렇게!\n"
   ]
  },
  {
   "cell_type": "code",
   "execution_count": 132,
   "metadata": {},
   "outputs": [
    {
     "name": "stdout",
     "output_type": "stream",
     "text": [
      "[[2 6 7 7 9]\n",
      " [8 6 4 3 4]\n",
      " [3 6 5 2 6]\n",
      " [9 4 6 9 5]\n",
      " [2 8 9 2 3]]\n"
     ]
    }
   ],
   "source": [
    "print(a2)\n",
    "np.savetxt(\"a.csv\", a2, delimiter=',')\n"
   ]
  },
  {
   "cell_type": "code",
   "execution_count": 133,
   "metadata": {},
   "outputs": [
    {
     "name": "stdout",
     "output_type": "stream",
     "text": [
      "Numpy_Ufunc.ipynb  a.csv              ab.npz\n",
      "Numpy_intro.ipynb  a.npy\n"
     ]
    }
   ],
   "source": [
    "ls"
   ]
  },
  {
   "cell_type": "code",
   "execution_count": 134,
   "metadata": {},
   "outputs": [
    {
     "name": "stdout",
     "output_type": "stream",
     "text": [
      "2.000000000000000000e+00,6.000000000000000000e+00,7.000000000000000000e+00,7.000000000000000000e+00,9.000000000000000000e+00\n",
      "8.000000000000000000e+00,6.000000000000000000e+00,4.000000000000000000e+00,3.000000000000000000e+00,4.000000000000000000e+00\n",
      "3.000000000000000000e+00,6.000000000000000000e+00,5.000000000000000000e+00,2.000000000000000000e+00,6.000000000000000000e+00\n",
      "9.000000000000000000e+00,4.000000000000000000e+00,6.000000000000000000e+00,9.000000000000000000e+00,5.000000000000000000e+00\n",
      "2.000000000000000000e+00,8.000000000000000000e+00,9.000000000000000000e+00,2.000000000000000000e+00,3.000000000000000000e+00\n"
     ]
    }
   ],
   "source": [
    "cat a.csv # cat으로 reading 됨 csv는 "
   ]
  },
  {
   "cell_type": "code",
   "execution_count": 136,
   "metadata": {},
   "outputs": [
    {
     "name": "stdout",
     "output_type": "stream",
     "text": [
      "[[2. 6. 7. 7. 9.]\n",
      " [8. 6. 4. 3. 4.]\n",
      " [3. 6. 5. 2. 6.]\n",
      " [9. 4. 6. 9. 5.]\n",
      " [2. 8. 9. 2. 3.]]\n"
     ]
    }
   ],
   "source": [
    "csv = np.loadtxt(\"a.csv\", delimiter=',') # delimiter 해야함! (저장/로드 모두)\n",
    "print(csv)"
   ]
  },
  {
   "cell_type": "code",
   "execution_count": 139,
   "metadata": {},
   "outputs": [
    {
     "name": "stdout",
     "output_type": "stream",
     "text": [
      "[[1 3 4 2 8]\n",
      " [2 4 5 2 8]\n",
      " [5 1 3 8 5]\n",
      " [1 3 7 3 5]\n",
      " [6 5 5 9 2]]\n"
     ]
    }
   ],
   "source": [
    "print(b2)\n",
    "np.savetxt(\"b.csv\", b2, delimiter=',', fmt = '%.2e', header='c1, c2, c3, c4, c5')"
   ]
  },
  {
   "cell_type": "code",
   "execution_count": 141,
   "metadata": {},
   "outputs": [
    {
     "name": "stdout",
     "output_type": "stream",
     "text": [
      "# c1, c2, c3, c4, c5\n",
      "1.00e+00,3.00e+00,4.00e+00,2.00e+00,8.00e+00\n",
      "2.00e+00,4.00e+00,5.00e+00,2.00e+00,8.00e+00\n",
      "5.00e+00,1.00e+00,3.00e+00,8.00e+00,5.00e+00\n",
      "1.00e+00,3.00e+00,7.00e+00,3.00e+00,5.00e+00\n",
      "6.00e+00,5.00e+00,5.00e+00,9.00e+00,2.00e+00\n"
     ]
    }
   ],
   "source": [
    "cat b.csv"
   ]
  },
  {
   "cell_type": "code",
   "execution_count": 140,
   "metadata": {},
   "outputs": [
    {
     "data": {
      "text/plain": [
       "array([[1., 3., 4., 2., 8.],\n",
       "       [2., 4., 5., 2., 8.],\n",
       "       [5., 1., 3., 8., 5.],\n",
       "       [1., 3., 7., 3., 5.],\n",
       "       [6., 5., 5., 9., 2.]])"
      ]
     },
     "execution_count": 140,
     "metadata": {},
     "output_type": "execute_result"
    }
   ],
   "source": [
    "np.loadtxt(\"b.csv\", delimiter=\",\")"
   ]
  },
  {
   "cell_type": "code",
   "execution_count": 31,
   "metadata": {},
   "outputs": [
    {
     "name": "stdout",
     "output_type": "stream",
     "text": [
      "[1 2 3 4 5]\n"
     ]
    }
   ],
   "source": [
    "# reduce --> 집계 함수\n",
    "\n",
    "x = np.array([1,2,3,4,5])\n",
    "print(x)"
   ]
  },
  {
   "cell_type": "code",
   "execution_count": 33,
   "metadata": {},
   "outputs": [
    {
     "data": {
      "text/plain": [
       "120"
      ]
     },
     "execution_count": 33,
     "metadata": {},
     "output_type": "execute_result"
    }
   ],
   "source": [
    "np.add.reduce(x) # 다 더함 \n",
    "np.multiply.reduce(x) #  다 곱함 "
   ]
  },
  {
   "cell_type": "code",
   "execution_count": null,
   "metadata": {},
   "outputs": [],
   "source": []
  }
 ],
 "metadata": {
  "interpreter": {
   "hash": "aee8b7b246df8f9039afb4144a1f6fd8d2ca17a180786b69acc140d282b71a49"
  },
  "kernelspec": {
   "display_name": "Python 3.10.3 64-bit",
   "language": "python",
   "name": "python3"
  },
  "language_info": {
   "codemirror_mode": {
    "name": "ipython",
    "version": 3
   },
   "file_extension": ".py",
   "mimetype": "text/x-python",
   "name": "python",
   "nbconvert_exporter": "python",
   "pygments_lexer": "ipython3",
   "version": "3.10.3"
  },
  "orig_nbformat": 4
 },
 "nbformat": 4,
 "nbformat_minor": 2
}
